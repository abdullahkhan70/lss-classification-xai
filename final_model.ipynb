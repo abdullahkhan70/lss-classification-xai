{
 "cells": [
  {
   "cell_type": "code",
   "execution_count": 1,
   "metadata": {
    "executionInfo": {
     "elapsed": 5174,
     "status": "ok",
     "timestamp": 1748183374857,
     "user": {
      "displayName": "Movies Tonight",
      "userId": "05638868713549501183"
     },
     "user_tz": -300
    },
    "id": "FreTQP6Jntcf"
   },
   "outputs": [],
   "source": [
    "!pip install -qq scikit-image captum Pillow pydicom torchinfo torchview"
   ]
  },
  {
   "cell_type": "code",
   "execution_count": 2,
   "metadata": {
    "colab": {
     "base_uri": "https://localhost:8080/"
    },
    "executionInfo": {
     "elapsed": 8049,
     "status": "ok",
     "timestamp": 1748183382900,
     "user": {
      "displayName": "Movies Tonight",
      "userId": "05638868713549501183"
     },
     "user_tz": -300
    },
    "id": "6d6N75Dxuavv",
    "outputId": "a0441120-de40-43e7-c7c4-0822a3507838"
   },
   "outputs": [
    {
     "name": "stderr",
     "output_type": "stream",
     "text": [
      "WARNING:pydicom:The 'pydicom.pixel_data_handlers' module will be removed in v4.0, please use 'from pydicom.pixels import apply_modality_lut' instead\n",
      "WARNING:pydicom:The 'pydicom.pixel_data_handlers' module will be removed in v4.0, please use 'from pydicom.pixels import apply_voi_lut' instead\n"
     ]
    },
    {
     "name": "stdout",
     "output_type": "stream",
     "text": [
      "Drive already mounted at /content/drive/; to attempt to forcibly remount, call drive.mount(\"/content/drive/\", force_remount=True).\n",
      "0.8.0\n"
     ]
    }
   ],
   "source": [
    "import os\n",
    "import random\n",
    "import re\n",
    "import numpy as np\n",
    "import pandas as pd\n",
    "from copy import deepcopy\n",
    "from tqdm import tqdm\n",
    "from pathlib import Path\n",
    "from PIL import Image, ImageOps\n",
    "import requests\n",
    "\n",
    "# Google\n",
    "from google.colab import drive\n",
    "from google.colab.patches import cv2_imshow\n",
    "drive.mount('/content/drive/')\n",
    "\n",
    "# Matplotlib\n",
    "import matplotlib.pyplot as plt\n",
    "from matplotlib.colors import LinearSegmentedColormap\n",
    "%matplotlib inline\n",
    "\n",
    "# Pydicom - Load DCM Files\n",
    "import pydicom as dicom\n",
    "from pydicom.pixel_data_handlers.util import apply_modality_lut, apply_voi_lut\n",
    "\n",
    "# Scikit-image\n",
    "from skimage.io import imread\n",
    "\n",
    "# Pytorch\n",
    "import torch\n",
    "from torch import nn\n",
    "from torch.utils.data import Dataset, DataLoader\n",
    "import torchvision\n",
    "from torchvision import transforms\n",
    "import torch.nn.functional as F\n",
    "from torchvision.models import resnet18, resnet50\n",
    "from torchinfo import summary\n",
    "from torchview import draw_graph\n",
    "\n",
    "# Captum\n",
    "import captum\n",
    "from captum.attr import Saliency, LayerGradCam, Occlusion, LayerAttribution\n",
    "from captum.attr import visualization as viz\n",
    "\n",
    "print(captum.__version__)"
   ]
  },
  {
   "cell_type": "code",
   "execution_count": null,
   "metadata": {
    "executionInfo": {
     "elapsed": 27,
     "status": "ok",
     "timestamp": 1748183382928,
     "user": {
      "displayName": "Movies Tonight",
      "userId": "05638868713549501183"
     },
     "user_tz": -300
    },
    "id": "bNpJ8CJM2tFR"
   },
   "outputs": [],
   "source": [
    "# Load the Google Sheet using Pandas.\n",
    "sheet_id = \"$YOUR_OWN_SHEET_ID\"\n",
    "sheet_name = \"Sheet1\"\n",
    "url = f\"https://docs.google.com/spreadsheets/d/{sheet_id}/gviz/tq?tqx=out:csv&sheet={sheet_name}\""
   ]
  },
  {
   "cell_type": "code",
   "execution_count": 4,
   "metadata": {
    "executionInfo": {
     "elapsed": 568,
     "status": "ok",
     "timestamp": 1748183383499,
     "user": {
      "displayName": "Movies Tonight",
      "userId": "05638868713549501183"
     },
     "user_tz": -300
    },
    "id": "q8WDOy8Y22s7"
   },
   "outputs": [],
   "source": [
    "df = pd.read_csv(url)"
   ]
  },
  {
   "cell_type": "code",
   "execution_count": 5,
   "metadata": {
    "colab": {
     "base_uri": "https://localhost:8080/",
     "height": 313
    },
    "executionInfo": {
     "elapsed": 88,
     "status": "ok",
     "timestamp": 1748183383590,
     "user": {
      "displayName": "Movies Tonight",
      "userId": "05638868713549501183"
     },
     "user_tz": -300
    },
    "id": "-yQCROcb24xM",
    "outputId": "b69daf7d-489e-4c3c-aa29-a8eccbf83d7d"
   },
   "outputs": [
    {
     "data": {
      "application/vnd.google.colaboratory.intrinsic+json": {
       "summary": "{\n  \"name\": \"df\",\n  \"rows\": 196,\n  \"fields\": [\n    {\n      \"column\": \"patient_id\",\n      \"properties\": {\n        \"dtype\": \"number\",\n        \"std\": 56,\n        \"min\": 1,\n        \"max\": 198,\n        \"num_unique_values\": 196,\n        \"samples\": [\n          140,\n          114,\n          17\n        ],\n        \"semantic_type\": \"\",\n        \"description\": \"\"\n      }\n    },\n    {\n      \"column\": \"path\",\n      \"properties\": {\n        \"dtype\": \"string\",\n        \"num_unique_values\": 196,\n        \"samples\": [\n          \"/content/drive/MyDrive/thesis/Datasets/lumbar_spinal_cord_mri_datasets/datasets/140\",\n          \"/content/drive/MyDrive/thesis/Datasets/lumbar_spinal_cord_mri_datasets/datasets/114\",\n          \"/content/drive/MyDrive/thesis/Datasets/lumbar_spinal_cord_mri_datasets/datasets/17\"\n        ],\n        \"semantic_type\": \"\",\n        \"description\": \"\"\n      }\n    },\n    {\n      \"column\": \"new_path\",\n      \"properties\": {\n        \"dtype\": \"string\",\n        \"num_unique_values\": 196,\n        \"samples\": [\n          \"/140/\",\n          \"/114/\",\n          \"/17/\"\n        ],\n        \"semantic_type\": \"\",\n        \"description\": \"\"\n      }\n    },\n    {\n      \"column\": \"testing_path_url\",\n      \"properties\": {\n        \"dtype\": \"category\",\n        \"num_unique_values\": 3,\n        \"samples\": [\n          \"/content/drive/MyDrive/thesis/Datasets/lumbar_spinal_cord_mri_datasets/testing_dataset/200\",\n          \"/content/drive/MyDrive/thesis/Datasets/lumbar_spinal_cord_mri_datasets/testing_dataset/202\",\n          \"/content/drive/MyDrive/thesis/Datasets/lumbar_spinal_cord_mri_datasets/testing_dataset/213\"\n        ],\n        \"semantic_type\": \"\",\n        \"description\": \"\"\n      }\n    },\n    {\n      \"column\": \"testing_new_path\",\n      \"properties\": {\n        \"dtype\": \"category\",\n        \"num_unique_values\": 3,\n        \"samples\": [\n          \"/200/\",\n          \"/202/\",\n          \"/213/\"\n        ],\n        \"semantic_type\": \"\",\n        \"description\": \"\"\n      }\n    },\n    {\n      \"column\": \"testing_herniated_disc\",\n      \"properties\": {\n        \"dtype\": \"number\",\n        \"std\": null,\n        \"min\": 200.0,\n        \"max\": 200.0,\n        \"num_unique_values\": 1,\n        \"samples\": [\n          200.0\n        ],\n        \"semantic_type\": \"\",\n        \"description\": \"\"\n      }\n    },\n    {\n      \"column\": \"testing_no_stenosis\",\n      \"properties\": {\n        \"dtype\": \"number\",\n        \"std\": null,\n        \"min\": 202.0,\n        \"max\": 202.0,\n        \"num_unique_values\": 1,\n        \"samples\": [\n          202.0\n        ],\n        \"semantic_type\": \"\",\n        \"description\": \"\"\n      }\n    },\n    {\n      \"column\": \"testing_thecal_sac\",\n      \"properties\": {\n        \"dtype\": \"number\",\n        \"std\": null,\n        \"min\": 213.0,\n        \"max\": 213.0,\n        \"num_unique_values\": 1,\n        \"samples\": [\n          213.0\n        ],\n        \"semantic_type\": \"\",\n        \"description\": \"\"\n      }\n    },\n    {\n      \"column\": \"label_id\",\n      \"properties\": {\n        \"dtype\": \"category\",\n        \"num_unique_values\": 5,\n        \"samples\": [\n          \"/Labeller 2/\"\n        ],\n        \"semantic_type\": \"\",\n        \"description\": \"\"\n      }\n    },\n    {\n      \"column\": \"label_name\",\n      \"properties\": {\n        \"dtype\": \"category\",\n        \"num_unique_values\": 5,\n        \"samples\": [\n          \"/No Stenosis/\"\n        ],\n        \"semantic_type\": \"\",\n        \"description\": \"\"\n      }\n    },\n    {\n      \"column\": \"herniated_disc\",\n      \"properties\": {\n        \"dtype\": \"number\",\n        \"std\": 55.92632840401924,\n        \"min\": 1.0,\n        \"max\": 195.0,\n        \"num_unique_values\": 55,\n        \"samples\": [\n          123.0\n        ],\n        \"semantic_type\": \"\",\n        \"description\": \"\"\n      }\n    },\n    {\n      \"column\": \"no_stenosis\",\n      \"properties\": {\n        \"dtype\": \"number\",\n        \"std\": 52.70823459353213,\n        \"min\": 2.0,\n        \"max\": 188.0,\n        \"num_unique_values\": 52,\n        \"samples\": [\n          85.0\n        ],\n        \"semantic_type\": \"\",\n        \"description\": \"\"\n      }\n    },\n    {\n      \"column\": \"facet_joint\",\n      \"properties\": {\n        \"dtype\": \"number\",\n        \"std\": 66.73055272262224,\n        \"min\": 20.0,\n        \"max\": 191.0,\n        \"num_unique_values\": 6,\n        \"samples\": [\n          20.0\n        ],\n        \"semantic_type\": \"\",\n        \"description\": \"\"\n      }\n    },\n    {\n      \"column\": \"foramen\",\n      \"properties\": {\n        \"dtype\": \"number\",\n        \"std\": 14.597593760265545,\n        \"min\": 13.0,\n        \"max\": 57.0,\n        \"num_unique_values\": 13,\n        \"samples\": [\n          48.0\n        ],\n        \"semantic_type\": \"\",\n        \"description\": \"\"\n      }\n    },\n    {\n      \"column\": \"thecal_sac\",\n      \"properties\": {\n        \"dtype\": \"number\",\n        \"std\": 60.01771025511598,\n        \"min\": 12.0,\n        \"max\": 198.0,\n        \"num_unique_values\": 53,\n        \"samples\": [\n          77.0\n        ],\n        \"semantic_type\": \"\",\n        \"description\": \"\"\n      }\n    }\n  ]\n}",
       "type": "dataframe",
       "variable_name": "df"
      },
      "text/html": [
       "\n",
       "  <div id=\"df-85c57f69-479c-4597-ae14-b967b02dc98b\" class=\"colab-df-container\">\n",
       "    <div>\n",
       "<style scoped>\n",
       "    .dataframe tbody tr th:only-of-type {\n",
       "        vertical-align: middle;\n",
       "    }\n",
       "\n",
       "    .dataframe tbody tr th {\n",
       "        vertical-align: top;\n",
       "    }\n",
       "\n",
       "    .dataframe thead th {\n",
       "        text-align: right;\n",
       "    }\n",
       "</style>\n",
       "<table border=\"1\" class=\"dataframe\">\n",
       "  <thead>\n",
       "    <tr style=\"text-align: right;\">\n",
       "      <th></th>\n",
       "      <th>patient_id</th>\n",
       "      <th>path</th>\n",
       "      <th>new_path</th>\n",
       "      <th>testing_path_url</th>\n",
       "      <th>testing_new_path</th>\n",
       "      <th>testing_herniated_disc</th>\n",
       "      <th>testing_no_stenosis</th>\n",
       "      <th>testing_thecal_sac</th>\n",
       "      <th>label_id</th>\n",
       "      <th>label_name</th>\n",
       "      <th>herniated_disc</th>\n",
       "      <th>no_stenosis</th>\n",
       "      <th>facet_joint</th>\n",
       "      <th>foramen</th>\n",
       "      <th>thecal_sac</th>\n",
       "    </tr>\n",
       "  </thead>\n",
       "  <tbody>\n",
       "    <tr>\n",
       "      <th>0</th>\n",
       "      <td>1</td>\n",
       "      <td>/content/drive/MyDrive/thesis/Datasets/lumbar_...</td>\n",
       "      <td>/1/</td>\n",
       "      <td>/content/drive/MyDrive/thesis/Datasets/lumbar_...</td>\n",
       "      <td>/200/</td>\n",
       "      <td>200.0</td>\n",
       "      <td>202.0</td>\n",
       "      <td>213.0</td>\n",
       "      <td>/Labeller 1/</td>\n",
       "      <td>/Herniated Disc/</td>\n",
       "      <td>1.0</td>\n",
       "      <td>2.0</td>\n",
       "      <td>20.0</td>\n",
       "      <td>13.0</td>\n",
       "      <td>12.0</td>\n",
       "    </tr>\n",
       "    <tr>\n",
       "      <th>1</th>\n",
       "      <td>2</td>\n",
       "      <td>/content/drive/MyDrive/thesis/Datasets/lumbar_...</td>\n",
       "      <td>/2/</td>\n",
       "      <td>/content/drive/MyDrive/thesis/Datasets/lumbar_...</td>\n",
       "      <td>/202/</td>\n",
       "      <td>NaN</td>\n",
       "      <td>NaN</td>\n",
       "      <td>NaN</td>\n",
       "      <td>/Labeller 2/</td>\n",
       "      <td>/No Stenosis/</td>\n",
       "      <td>3.0</td>\n",
       "      <td>9.0</td>\n",
       "      <td>22.0</td>\n",
       "      <td>15.0</td>\n",
       "      <td>14.0</td>\n",
       "    </tr>\n",
       "    <tr>\n",
       "      <th>2</th>\n",
       "      <td>3</td>\n",
       "      <td>/content/drive/MyDrive/thesis/Datasets/lumbar_...</td>\n",
       "      <td>/3/</td>\n",
       "      <td>/content/drive/MyDrive/thesis/Datasets/lumbar_...</td>\n",
       "      <td>/213/</td>\n",
       "      <td>NaN</td>\n",
       "      <td>NaN</td>\n",
       "      <td>NaN</td>\n",
       "      <td>/Labeller 3/</td>\n",
       "      <td>/Thecal Sac/</td>\n",
       "      <td>4.0</td>\n",
       "      <td>10.0</td>\n",
       "      <td>26.0</td>\n",
       "      <td>17.0</td>\n",
       "      <td>16.0</td>\n",
       "    </tr>\n",
       "    <tr>\n",
       "      <th>3</th>\n",
       "      <td>4</td>\n",
       "      <td>/content/drive/MyDrive/thesis/Datasets/lumbar_...</td>\n",
       "      <td>/4/</td>\n",
       "      <td>NaN</td>\n",
       "      <td>NaN</td>\n",
       "      <td>NaN</td>\n",
       "      <td>NaN</td>\n",
       "      <td>NaN</td>\n",
       "      <td>/Labeller 4/</td>\n",
       "      <td>/Foramen/</td>\n",
       "      <td>5.0</td>\n",
       "      <td>18.0</td>\n",
       "      <td>30.0</td>\n",
       "      <td>19.0</td>\n",
       "      <td>23.0</td>\n",
       "    </tr>\n",
       "    <tr>\n",
       "      <th>4</th>\n",
       "      <td>5</td>\n",
       "      <td>/content/drive/MyDrive/thesis/Datasets/lumbar_...</td>\n",
       "      <td>/5/</td>\n",
       "      <td>NaN</td>\n",
       "      <td>NaN</td>\n",
       "      <td>NaN</td>\n",
       "      <td>NaN</td>\n",
       "      <td>NaN</td>\n",
       "      <td>/Labeller 5/</td>\n",
       "      <td>/Facet Joint/</td>\n",
       "      <td>6.0</td>\n",
       "      <td>24.0</td>\n",
       "      <td>52.0</td>\n",
       "      <td>21.0</td>\n",
       "      <td>25.0</td>\n",
       "    </tr>\n",
       "  </tbody>\n",
       "</table>\n",
       "</div>\n",
       "    <div class=\"colab-df-buttons\">\n",
       "\n",
       "  <div class=\"colab-df-container\">\n",
       "    <button class=\"colab-df-convert\" onclick=\"convertToInteractive('df-85c57f69-479c-4597-ae14-b967b02dc98b')\"\n",
       "            title=\"Convert this dataframe to an interactive table.\"\n",
       "            style=\"display:none;\">\n",
       "\n",
       "  <svg xmlns=\"http://www.w3.org/2000/svg\" height=\"24px\" viewBox=\"0 -960 960 960\">\n",
       "    <path d=\"M120-120v-720h720v720H120Zm60-500h600v-160H180v160Zm220 220h160v-160H400v160Zm0 220h160v-160H400v160ZM180-400h160v-160H180v160Zm440 0h160v-160H620v160ZM180-180h160v-160H180v160Zm440 0h160v-160H620v160Z\"/>\n",
       "  </svg>\n",
       "    </button>\n",
       "\n",
       "  <style>\n",
       "    .colab-df-container {\n",
       "      display:flex;\n",
       "      gap: 12px;\n",
       "    }\n",
       "\n",
       "    .colab-df-convert {\n",
       "      background-color: #E8F0FE;\n",
       "      border: none;\n",
       "      border-radius: 50%;\n",
       "      cursor: pointer;\n",
       "      display: none;\n",
       "      fill: #1967D2;\n",
       "      height: 32px;\n",
       "      padding: 0 0 0 0;\n",
       "      width: 32px;\n",
       "    }\n",
       "\n",
       "    .colab-df-convert:hover {\n",
       "      background-color: #E2EBFA;\n",
       "      box-shadow: 0px 1px 2px rgba(60, 64, 67, 0.3), 0px 1px 3px 1px rgba(60, 64, 67, 0.15);\n",
       "      fill: #174EA6;\n",
       "    }\n",
       "\n",
       "    .colab-df-buttons div {\n",
       "      margin-bottom: 4px;\n",
       "    }\n",
       "\n",
       "    [theme=dark] .colab-df-convert {\n",
       "      background-color: #3B4455;\n",
       "      fill: #D2E3FC;\n",
       "    }\n",
       "\n",
       "    [theme=dark] .colab-df-convert:hover {\n",
       "      background-color: #434B5C;\n",
       "      box-shadow: 0px 1px 3px 1px rgba(0, 0, 0, 0.15);\n",
       "      filter: drop-shadow(0px 1px 2px rgba(0, 0, 0, 0.3));\n",
       "      fill: #FFFFFF;\n",
       "    }\n",
       "  </style>\n",
       "\n",
       "    <script>\n",
       "      const buttonEl =\n",
       "        document.querySelector('#df-85c57f69-479c-4597-ae14-b967b02dc98b button.colab-df-convert');\n",
       "      buttonEl.style.display =\n",
       "        google.colab.kernel.accessAllowed ? 'block' : 'none';\n",
       "\n",
       "      async function convertToInteractive(key) {\n",
       "        const element = document.querySelector('#df-85c57f69-479c-4597-ae14-b967b02dc98b');\n",
       "        const dataTable =\n",
       "          await google.colab.kernel.invokeFunction('convertToInteractive',\n",
       "                                                    [key], {});\n",
       "        if (!dataTable) return;\n",
       "\n",
       "        const docLinkHtml = 'Like what you see? Visit the ' +\n",
       "          '<a target=\"_blank\" href=https://colab.research.google.com/notebooks/data_table.ipynb>data table notebook</a>'\n",
       "          + ' to learn more about interactive tables.';\n",
       "        element.innerHTML = '';\n",
       "        dataTable['output_type'] = 'display_data';\n",
       "        await google.colab.output.renderOutput(dataTable, element);\n",
       "        const docLink = document.createElement('div');\n",
       "        docLink.innerHTML = docLinkHtml;\n",
       "        element.appendChild(docLink);\n",
       "      }\n",
       "    </script>\n",
       "  </div>\n",
       "\n",
       "\n",
       "    <div id=\"df-772b23db-94b2-43c1-a469-bfa1bfee3fdc\">\n",
       "      <button class=\"colab-df-quickchart\" onclick=\"quickchart('df-772b23db-94b2-43c1-a469-bfa1bfee3fdc')\"\n",
       "                title=\"Suggest charts\"\n",
       "                style=\"display:none;\">\n",
       "\n",
       "<svg xmlns=\"http://www.w3.org/2000/svg\" height=\"24px\"viewBox=\"0 0 24 24\"\n",
       "     width=\"24px\">\n",
       "    <g>\n",
       "        <path d=\"M19 3H5c-1.1 0-2 .9-2 2v14c0 1.1.9 2 2 2h14c1.1 0 2-.9 2-2V5c0-1.1-.9-2-2-2zM9 17H7v-7h2v7zm4 0h-2V7h2v10zm4 0h-2v-4h2v4z\"/>\n",
       "    </g>\n",
       "</svg>\n",
       "      </button>\n",
       "\n",
       "<style>\n",
       "  .colab-df-quickchart {\n",
       "      --bg-color: #E8F0FE;\n",
       "      --fill-color: #1967D2;\n",
       "      --hover-bg-color: #E2EBFA;\n",
       "      --hover-fill-color: #174EA6;\n",
       "      --disabled-fill-color: #AAA;\n",
       "      --disabled-bg-color: #DDD;\n",
       "  }\n",
       "\n",
       "  [theme=dark] .colab-df-quickchart {\n",
       "      --bg-color: #3B4455;\n",
       "      --fill-color: #D2E3FC;\n",
       "      --hover-bg-color: #434B5C;\n",
       "      --hover-fill-color: #FFFFFF;\n",
       "      --disabled-bg-color: #3B4455;\n",
       "      --disabled-fill-color: #666;\n",
       "  }\n",
       "\n",
       "  .colab-df-quickchart {\n",
       "    background-color: var(--bg-color);\n",
       "    border: none;\n",
       "    border-radius: 50%;\n",
       "    cursor: pointer;\n",
       "    display: none;\n",
       "    fill: var(--fill-color);\n",
       "    height: 32px;\n",
       "    padding: 0;\n",
       "    width: 32px;\n",
       "  }\n",
       "\n",
       "  .colab-df-quickchart:hover {\n",
       "    background-color: var(--hover-bg-color);\n",
       "    box-shadow: 0 1px 2px rgba(60, 64, 67, 0.3), 0 1px 3px 1px rgba(60, 64, 67, 0.15);\n",
       "    fill: var(--button-hover-fill-color);\n",
       "  }\n",
       "\n",
       "  .colab-df-quickchart-complete:disabled,\n",
       "  .colab-df-quickchart-complete:disabled:hover {\n",
       "    background-color: var(--disabled-bg-color);\n",
       "    fill: var(--disabled-fill-color);\n",
       "    box-shadow: none;\n",
       "  }\n",
       "\n",
       "  .colab-df-spinner {\n",
       "    border: 2px solid var(--fill-color);\n",
       "    border-color: transparent;\n",
       "    border-bottom-color: var(--fill-color);\n",
       "    animation:\n",
       "      spin 1s steps(1) infinite;\n",
       "  }\n",
       "\n",
       "  @keyframes spin {\n",
       "    0% {\n",
       "      border-color: transparent;\n",
       "      border-bottom-color: var(--fill-color);\n",
       "      border-left-color: var(--fill-color);\n",
       "    }\n",
       "    20% {\n",
       "      border-color: transparent;\n",
       "      border-left-color: var(--fill-color);\n",
       "      border-top-color: var(--fill-color);\n",
       "    }\n",
       "    30% {\n",
       "      border-color: transparent;\n",
       "      border-left-color: var(--fill-color);\n",
       "      border-top-color: var(--fill-color);\n",
       "      border-right-color: var(--fill-color);\n",
       "    }\n",
       "    40% {\n",
       "      border-color: transparent;\n",
       "      border-right-color: var(--fill-color);\n",
       "      border-top-color: var(--fill-color);\n",
       "    }\n",
       "    60% {\n",
       "      border-color: transparent;\n",
       "      border-right-color: var(--fill-color);\n",
       "    }\n",
       "    80% {\n",
       "      border-color: transparent;\n",
       "      border-right-color: var(--fill-color);\n",
       "      border-bottom-color: var(--fill-color);\n",
       "    }\n",
       "    90% {\n",
       "      border-color: transparent;\n",
       "      border-bottom-color: var(--fill-color);\n",
       "    }\n",
       "  }\n",
       "</style>\n",
       "\n",
       "      <script>\n",
       "        async function quickchart(key) {\n",
       "          const quickchartButtonEl =\n",
       "            document.querySelector('#' + key + ' button');\n",
       "          quickchartButtonEl.disabled = true;  // To prevent multiple clicks.\n",
       "          quickchartButtonEl.classList.add('colab-df-spinner');\n",
       "          try {\n",
       "            const charts = await google.colab.kernel.invokeFunction(\n",
       "                'suggestCharts', [key], {});\n",
       "          } catch (error) {\n",
       "            console.error('Error during call to suggestCharts:', error);\n",
       "          }\n",
       "          quickchartButtonEl.classList.remove('colab-df-spinner');\n",
       "          quickchartButtonEl.classList.add('colab-df-quickchart-complete');\n",
       "        }\n",
       "        (() => {\n",
       "          let quickchartButtonEl =\n",
       "            document.querySelector('#df-772b23db-94b2-43c1-a469-bfa1bfee3fdc button');\n",
       "          quickchartButtonEl.style.display =\n",
       "            google.colab.kernel.accessAllowed ? 'block' : 'none';\n",
       "        })();\n",
       "      </script>\n",
       "    </div>\n",
       "\n",
       "    </div>\n",
       "  </div>\n"
      ],
      "text/plain": [
       "   patient_id                                               path new_path  \\\n",
       "0           1  /content/drive/MyDrive/thesis/Datasets/lumbar_...      /1/   \n",
       "1           2  /content/drive/MyDrive/thesis/Datasets/lumbar_...      /2/   \n",
       "2           3  /content/drive/MyDrive/thesis/Datasets/lumbar_...      /3/   \n",
       "3           4  /content/drive/MyDrive/thesis/Datasets/lumbar_...      /4/   \n",
       "4           5  /content/drive/MyDrive/thesis/Datasets/lumbar_...      /5/   \n",
       "\n",
       "                                    testing_path_url testing_new_path  \\\n",
       "0  /content/drive/MyDrive/thesis/Datasets/lumbar_...            /200/   \n",
       "1  /content/drive/MyDrive/thesis/Datasets/lumbar_...            /202/   \n",
       "2  /content/drive/MyDrive/thesis/Datasets/lumbar_...            /213/   \n",
       "3                                                NaN              NaN   \n",
       "4                                                NaN              NaN   \n",
       "\n",
       "   testing_herniated_disc  testing_no_stenosis  testing_thecal_sac  \\\n",
       "0                   200.0                202.0               213.0   \n",
       "1                     NaN                  NaN                 NaN   \n",
       "2                     NaN                  NaN                 NaN   \n",
       "3                     NaN                  NaN                 NaN   \n",
       "4                     NaN                  NaN                 NaN   \n",
       "\n",
       "       label_id        label_name  herniated_disc  no_stenosis  facet_joint  \\\n",
       "0  /Labeller 1/  /Herniated Disc/             1.0          2.0         20.0   \n",
       "1  /Labeller 2/     /No Stenosis/             3.0          9.0         22.0   \n",
       "2  /Labeller 3/      /Thecal Sac/             4.0         10.0         26.0   \n",
       "3  /Labeller 4/         /Foramen/             5.0         18.0         30.0   \n",
       "4  /Labeller 5/     /Facet Joint/             6.0         24.0         52.0   \n",
       "\n",
       "   foramen  thecal_sac  \n",
       "0     13.0        12.0  \n",
       "1     15.0        14.0  \n",
       "2     17.0        16.0  \n",
       "3     19.0        23.0  \n",
       "4     21.0        25.0  "
      ]
     },
     "execution_count": 5,
     "metadata": {},
     "output_type": "execute_result"
    }
   ],
   "source": [
    "df.head()"
   ]
  },
  {
   "cell_type": "code",
   "execution_count": 6,
   "metadata": {
    "colab": {
     "base_uri": "https://localhost:8080/"
    },
    "executionInfo": {
     "elapsed": 23,
     "status": "ok",
     "timestamp": 1748183383594,
     "user": {
      "displayName": "Movies Tonight",
      "userId": "05638868713549501183"
     },
     "user_tz": -300
    },
    "id": "lQmmAp8G27sv",
    "outputId": "39dc35ee-d88b-4afb-bb02-c05ea18cbfe2"
   },
   "outputs": [
    {
     "name": "stdout",
     "output_type": "stream",
     "text": [
      "Herniated Disc\n"
     ]
    }
   ],
   "source": [
    "# Define the labels.\n",
    "\n",
    "def get_label(selected_label_name: str):\n",
    "  label_name = list(df['label_name'])\n",
    "\n",
    "  for i in range(0, len(label_name)):\n",
    "    if '/Herniated Disc/' in selected_label_name:\n",
    "      return 'Herniated Disc'\n",
    "    if '/No Stenosis/' in selected_label_name:\n",
    "      return 'No Stenosis'\n",
    "    if '/Thecal Sac/' in selected_label_name:\n",
    "      return 'Thecal Sac'\n",
    "    if '/Foramen/' in selected_label_name:\n",
    "      return 'Foramen'\n",
    "    if '/Facet Joint/' in selected_label_name:\n",
    "      return 'Facet Joint'\n",
    "\n",
    "print(get_label('/Herniated Disc/'))"
   ]
  },
  {
   "cell_type": "code",
   "execution_count": null,
   "metadata": {
    "executionInfo": {
     "elapsed": 1473,
     "status": "ok",
     "timestamp": 1748183385068,
     "user": {
      "displayName": "Movies Tonight",
      "userId": "05638868713549501183"
     },
     "user_tz": -300
    },
    "id": "Txy4CLqF3JiR"
   },
   "outputs": [],
   "source": [
    "# load all the MRIs on the basis of patient_ids.\n",
    "\n",
    "training_dataset_path = '/preprocessed_images/final_preprocessed/training'\n",
    "testing_dataset_path = '/preprocessed_images/final_preprocessed/testing'\n",
    "paths = list(df['new_path'])\n",
    "\n",
    "def load_dataset(dataset_path: str):\n",
    "  mri_dcm = []\n",
    "  mri_dcm.clear()\n",
    "\n",
    "  dataset_list = list(Path(dataset_path).rglob(\"*.jpg\" ))\n",
    "  for fileName in dataset_list:\n",
    "    try:\n",
    "      file_size = os.path.getsize(fileName)\n",
    "      if file_size > 0:\n",
    "        # for i in paths:\n",
    "        # if i in str(fileName):\n",
    "            # patient_id = str(re.findall('\\d+',i)[0])\n",
    "            # new_data = {'filePath': str(fileName), 'patient_id': patient_id}\n",
    "        new_data = {'filePath': str(fileName), 'label': get_label(str(fileName))}\n",
    "        mri_dcm.append(new_data)\n",
    "    except FileNotFoundError as e:\n",
    "      continue\n",
    "  return mri_dcm\n",
    "\n",
    "training_dataset = load_dataset(training_dataset_path)\n",
    "testing_dataset = load_dataset(testing_dataset_path)"
   ]
  },
  {
   "cell_type": "markdown",
   "metadata": {
    "id": "mVNAIS-73cZx"
   },
   "source": [
    "Show the total number of training dataset available"
   ]
  },
  {
   "cell_type": "code",
   "execution_count": 8,
   "metadata": {
    "colab": {
     "base_uri": "https://localhost:8080/"
    },
    "executionInfo": {
     "elapsed": 27,
     "status": "ok",
     "timestamp": 1748183385097,
     "user": {
      "displayName": "Movies Tonight",
      "userId": "05638868713549501183"
     },
     "user_tz": -300
    },
    "id": "zZSgZVdl3ZQi",
    "outputId": "cde24cfc-751d-421b-f489-42a00817d3de"
   },
   "outputs": [
    {
     "data": {
      "text/plain": [
       "(4629, 1158)"
      ]
     },
     "execution_count": 8,
     "metadata": {},
     "output_type": "execute_result"
    }
   ],
   "source": [
    "len(training_dataset), len(testing_dataset)"
   ]
  },
  {
   "cell_type": "markdown",
   "metadata": {
    "id": "vSmxk05F3jz0"
   },
   "source": [
    "Creating own Dataset `Class` to load our own datasets."
   ]
  },
  {
   "cell_type": "code",
   "execution_count": 9,
   "metadata": {
    "executionInfo": {
     "elapsed": 20,
     "status": "ok",
     "timestamp": 1748183385120,
     "user": {
      "displayName": "Movies Tonight",
      "userId": "05638868713549501183"
     },
     "user_tz": -300
    },
    "id": "i3ukuey33d5C"
   },
   "outputs": [],
   "source": [
    "def get_label_no(selected_label_name: str):\n",
    "  if selected_label_name == 'Herniated Disc':\n",
    "    return 0\n",
    "  if selected_label_name == 'Thecal Sac':\n",
    "    return 1\n",
    "  # if selected_label_name == 'Foramen':\n",
    "  #   return 2\n",
    "  # if selected_label_name == 'Facet Joint':\n",
    "  #   return 3\n",
    "  if selected_label_name == 'No Stenosis':\n",
    "    return 2"
   ]
  },
  {
   "cell_type": "code",
   "execution_count": 10,
   "metadata": {
    "executionInfo": {
     "elapsed": 17,
     "status": "ok",
     "timestamp": 1748183385142,
     "user": {
      "displayName": "Movies Tonight",
      "userId": "05638868713549501183"
     },
     "user_tz": -300
    },
    "id": "lJhqaucj3rK3"
   },
   "outputs": [],
   "source": [
    "class LumbarSpinalDataset(Dataset):\n",
    "  def __init__(self, dataset = None, transform=None, image_size = None):\n",
    "    self.labels = dataset\n",
    "    self.transform = transform\n",
    "    self.image_size = image_size\n",
    "\n",
    "    # self.classes = ['Herniated Disc', 'No Stenosis', 'Thecal Sac', 'Foramen', 'Facet Joint']\n",
    "    self.classes = ['Herniated Disc', 'No Stenosis', 'Thecal Sac']\n",
    "    self.load_dataset()\n",
    "\n",
    "  def load_dataset(self):\n",
    "    image_path = []\n",
    "\n",
    "    for i in range(0, len(training_dataset)):\n",
    "      image_path.append((training_dataset[i]['filePath'], get_label_no(training_dataset[i]['label'])))\n",
    "\n",
    "    for i in range(0, len(testing_dataset)):\n",
    "      image_path.append((testing_dataset[i]['filePath'], get_label_no(testing_dataset[i]['label'])))\n",
    "\n",
    "    self.labels = image_path\n",
    "\n",
    "  def normalize(self, image):\n",
    "    transform = transforms.Compose([\n",
    "        transforms.ToTensor(),\n",
    "        transforms.Normalize(mean=[0.485], std=[0.229])\n",
    "    ])\n",
    "    image = transform(image)\n",
    "    return image\n",
    "\n",
    "  def __getitem__(self, index):\n",
    "    fpath, target = self.labels[index]\n",
    "    # fpath = self.labels[idx]\n",
    "    image_array = imread(fpath, as_gray=True)\n",
    "    # image_array = self.normalize_image(image_array)\n",
    "    image_array = self.normalize(image_array)\n",
    "    # data = torch.from_numpy(image_array)\n",
    "    data = image_array.type(torch.FloatTensor)\n",
    "    # data = torch.unsqueeze(data, 0)\n",
    "    data = transforms.Resize((self.image_size, self.image_size))(data)\n",
    "\n",
    "    return data, target\n",
    "\n",
    "  def __len__(self):\n",
    "    return len(self.labels)"
   ]
  },
  {
   "cell_type": "code",
   "execution_count": 11,
   "metadata": {
    "executionInfo": {
     "elapsed": 9,
     "status": "ok",
     "timestamp": 1748183385155,
     "user": {
      "displayName": "Movies Tonight",
      "userId": "05638868713549501183"
     },
     "user_tz": -300
    },
    "id": "lRyfszVx3s8m"
   },
   "outputs": [],
   "source": [
    "dataset = LumbarSpinalDataset(image_size=256)"
   ]
  },
  {
   "cell_type": "code",
   "execution_count": 12,
   "metadata": {
    "colab": {
     "base_uri": "https://localhost:8080/",
     "height": 187
    },
    "executionInfo": {
     "elapsed": 5,
     "status": "ok",
     "timestamp": 1748183385168,
     "user": {
      "displayName": "Movies Tonight",
      "userId": "05638868713549501183"
     },
     "user_tz": -300
    },
    "id": "zRJCic5t31Mx",
    "outputId": "3621bd8f-12ba-4ffa-9eb4-5d6a816d2602"
   },
   "outputs": [
    {
     "data": {
      "text/html": [
       "<div style=\"max-width:800px; border: 1px solid var(--colab-border-color);\"><style>\n",
       "      pre.function-repr-contents {\n",
       "        overflow-x: auto;\n",
       "        padding: 8px 12px;\n",
       "        max-height: 500px;\n",
       "      }\n",
       "\n",
       "      pre.function-repr-contents.function-repr-contents-collapsed {\n",
       "        cursor: pointer;\n",
       "        max-height: 100px;\n",
       "      }\n",
       "    </style>\n",
       "    <pre style=\"white-space: initial; background:\n",
       "         var(--colab-secondary-surface-color); padding: 8px 12px;\n",
       "         border-bottom: 1px solid var(--colab-border-color);\"><b>LumbarSpinalDataset</b><br/>def __init__(dataset=None, transform=None, image_size=None)</pre><pre class=\"function-repr-contents function-repr-contents-collapsed\" style=\"\"><a class=\"filepath\" style=\"display:none\" href=\"#\"></a>An abstract class representing a :class:`Dataset`.\n",
       "\n",
       "All datasets that represent a map from keys to data samples should subclass\n",
       "it. All subclasses should overwrite :meth:`__getitem__`, supporting fetching a\n",
       "data sample for a given key. Subclasses could also optionally overwrite\n",
       ":meth:`__len__`, which is expected to return the size of the dataset by many\n",
       ":class:`~torch.utils.data.Sampler` implementations and the default options\n",
       "of :class:`~torch.utils.data.DataLoader`. Subclasses could also\n",
       "optionally implement :meth:`__getitems__`, for speedup batched samples\n",
       "loading. This method accepts list of indices of samples of batch and returns\n",
       "list of samples.\n",
       "\n",
       ".. note::\n",
       "  :class:`~torch.utils.data.DataLoader` by default constructs an index\n",
       "  sampler that yields integral indices.  To make it work with a map-style\n",
       "  dataset with non-integral indices/keys, a custom sampler must be provided.</pre></div>"
      ],
      "text/plain": [
       "__main__.LumbarSpinalDataset"
      ]
     },
     "execution_count": 12,
     "metadata": {},
     "output_type": "execute_result"
    }
   ],
   "source": [
    "type(dataset)"
   ]
  },
  {
   "cell_type": "markdown",
   "metadata": {
    "id": "3mUAgwa139n2"
   },
   "source": [
    "### Spliting the `Dataset` Randomly\n",
    "\n",
    "For this we are splitting our dataset into training, validation, and testing by 80%, 10% and 10% respectively."
   ]
  },
  {
   "cell_type": "code",
   "execution_count": 13,
   "metadata": {
    "colab": {
     "base_uri": "https://localhost:8080/"
    },
    "executionInfo": {
     "elapsed": 17,
     "status": "ok",
     "timestamp": 1748183385186,
     "user": {
      "displayName": "Movies Tonight",
      "userId": "05638868713549501183"
     },
     "user_tz": -300
    },
    "id": "u25Zv3yp32Xv",
    "outputId": "93bd993a-b7af-4cd1-9386-41fd555bcf68"
   },
   "outputs": [
    {
     "name": "stdout",
     "output_type": "stream",
     "text": [
      "5787\n",
      "5208 289 290\n",
      "<class 'torch.utils.data.dataset.Subset'>\n",
      "5208 289 290\n"
     ]
    }
   ],
   "source": [
    "train_fraction = 0.9\n",
    "val_fraction = 0.05\n",
    "test_fraction = 0.05\n",
    "dataset_size = len(dataset)\n",
    "print(dataset_size)\n",
    "\n",
    "num_train = int(train_fraction * dataset_size)\n",
    "num_validation = int(val_fraction * dataset_size)\n",
    "num_test = dataset_size - num_train - num_validation\n",
    "\n",
    "print(num_train, num_validation, num_test)\n",
    "\n",
    "train_dataset, validation_dataset, test_dataset = torch.utils.data.random_split(\n",
    "                                 dataset, [num_train, num_validation, num_test],\n",
    "                                 generator=torch.Generator().manual_seed(42))\n",
    "print(type(train_dataset))\n",
    "print(len(train_dataset), len(validation_dataset), len(test_dataset))"
   ]
  },
  {
   "cell_type": "markdown",
   "metadata": {
    "id": "o2i7tYD24EmC"
   },
   "source": [
    "Check do we conneted with the GPU or not."
   ]
  },
  {
   "cell_type": "code",
   "execution_count": 14,
   "metadata": {
    "colab": {
     "base_uri": "https://localhost:8080/"
    },
    "executionInfo": {
     "elapsed": 70,
     "status": "ok",
     "timestamp": 1748183385259,
     "user": {
      "displayName": "Movies Tonight",
      "userId": "05638868713549501183"
     },
     "user_tz": -300
    },
    "id": "8gHC_UG54Gej",
    "outputId": "d6b2d1fb-719d-4c8f-ea9b-63adb7f28674"
   },
   "outputs": [
    {
     "name": "stdout",
     "output_type": "stream",
     "text": [
      "cuda:0\n"
     ]
    }
   ],
   "source": [
    "device = torch.device(\"cuda:0\" if torch.cuda.is_available() else \"cpu\")\n",
    "print(device)"
   ]
  },
  {
   "cell_type": "markdown",
   "metadata": {
    "id": "lCHJkrFl4LbI"
   },
   "source": [
    "### Dataloaders\n",
    "\n",
    "It is hard for us to train our model by giving it one by one images in each epoch. So, this procedure is quite slow, for this we need to make sure that in each epoch we will pass a batch of images instead of a single image. That is why, we are using `Dataloaders` to load our data in `batches`."
   ]
  },
  {
   "cell_type": "code",
   "execution_count": 15,
   "metadata": {
    "executionInfo": {
     "elapsed": 5,
     "status": "ok",
     "timestamp": 1748183385266,
     "user": {
      "displayName": "Movies Tonight",
      "userId": "05638868713549501183"
     },
     "user_tz": -300
    },
    "id": "c-KaQshH4POz"
   },
   "outputs": [],
   "source": [
    "train_batch_size = 200\n",
    "eval_batch_size = 10\n",
    "\n",
    "train_dataloader = DataLoader(train_dataset, batch_size=train_batch_size, shuffle=True)\n",
    "validation_dataloader = DataLoader(validation_dataset, batch_size=eval_batch_size)\n",
    "test_dataloader = DataLoader(test_dataset, batch_size=eval_batch_size)"
   ]
  },
  {
   "cell_type": "code",
   "execution_count": 16,
   "metadata": {
    "colab": {
     "base_uri": "https://localhost:8080/"
    },
    "executionInfo": {
     "elapsed": 12,
     "status": "ok",
     "timestamp": 1748183385290,
     "user": {
      "displayName": "Movies Tonight",
      "userId": "05638868713549501183"
     },
     "user_tz": -300
    },
    "id": "JSxg14qs4RSA",
    "outputId": "e428523b-db97-4c88-969a-4a3eefb3e744"
   },
   "outputs": [
    {
     "data": {
      "text/plain": [
       "(27, 29, 29)"
      ]
     },
     "execution_count": 16,
     "metadata": {},
     "output_type": "execute_result"
    }
   ],
   "source": [
    "len(train_dataloader), len(validation_dataloader), len(test_dataloader)"
   ]
  },
  {
   "cell_type": "markdown",
   "metadata": {
    "id": "H7NIl9o24U5i"
   },
   "source": [
    "We need to make sure that in every systems the random values must be same."
   ]
  },
  {
   "cell_type": "markdown",
   "metadata": {
    "id": "UFleIKyX4Yqk"
   },
   "source": [
    "## Load the Predictation Data"
   ]
  },
  {
   "cell_type": "code",
   "execution_count": null,
   "metadata": {
    "executionInfo": {
     "elapsed": 3,
     "status": "ok",
     "timestamp": 1748183385295,
     "user": {
      "displayName": "Movies Tonight",
      "userId": "05638868713549501183"
     },
     "user_tz": -300
    },
    "id": "KakulR_g4cD1"
   },
   "outputs": [],
   "source": [
    "image_paths = ['/preprocessed_images/testing_preprocessed/testing/Herniated Disc/image_9.jpg', \\\n",
    "               '//preprocessed_images/testing_preprocessed/testing/Herniated Disc/image_32.jpg', \\\n",
    "               '/preprocessed_images/testing_preprocessed/testing/No Stenosis/image_49.jpg', \\\n",
    "               '/preprocessed_images/testing_preprocessed/testing/No Stenosis/image_60.jpg', \\\n",
    "               '/preprocessed_images/testing_preprocessed/testing/Thecal Sac/image_90.jpg', \\\n",
    "               '/preprocessed_images/testing_preprocessed/testing/Thecal Sac/image_105.jpg']"
   ]
  },
  {
   "cell_type": "code",
   "execution_count": 18,
   "metadata": {
    "executionInfo": {
     "elapsed": 120,
     "status": "ok",
     "timestamp": 1748183385418,
     "user": {
      "displayName": "Movies Tonight",
      "userId": "05638868713549501183"
     },
     "user_tz": -300
    },
    "id": "b0M3PNRh4gKY"
   },
   "outputs": [],
   "source": [
    "# Model expects 400x400 1-channel (grayscale) images\n",
    "transform = transforms.Compose([\n",
    "    transforms.Grayscale(num_output_channels=1),  # Convert to 1-channel grayscale\n",
    "    transforms.RandomHorizontalFlip(),  # Random horizontal flip\n",
    "    transforms.RandomRotation(degrees=10),  # Random rotation\n",
    "    transforms.ToTensor(),  # Shape: [1, 400, 400]\n",
    "    # transforms.Normalize(mean=[0.5], std=[0.5])  # Adjust based on your model\n",
    "])\n",
    "\n",
    "# For grayscale normalization (adjust mean/std if needed)\n",
    "norm_transform = transforms.Normalize(mean=[0.5], std=[0.5])  # Maps [0,1] → [-1,1]\n",
    "\n",
    "original_img = []\n",
    "input_img = []\n",
    "new_img = []\n",
    "\n",
    "original_img.clear()\n",
    "input_img.clear()\n",
    "new_img.clear()\n",
    "\n",
    "for i in range(len(image_paths)):\n",
    "    # Load image and apply transforms\n",
    "    img = Image.open(image_paths[i]).convert('L')  # 'L' mode for grayscale\n",
    "    transformed = transform(img)  # [1, 400, 400]\n",
    "    new_img.append(transformed)\n",
    "\n",
    "    # Normalize and store\n",
    "    transformed*= (1.0/transformed.max())\n",
    "\n",
    "    # Normalize and store\n",
    "    normalized = norm_transform(transformed).unsqueeze(0)  # [1, 1, 400, 400]\n",
    "    input_img.append(normalized)\n",
    "\n",
    "    # For visualization, denormalize and convert to numpy\n",
    "    denormalized = (transformed * 0.5) + 0.5  # Reverse normalization: [-1,1] → [0,1]\n",
    "    original_img.append(denormalized.squeeze().cpu().numpy())  # [400, 400]"
   ]
  },
  {
   "cell_type": "code",
   "execution_count": 19,
   "metadata": {
    "colab": {
     "base_uri": "https://localhost:8080/"
    },
    "executionInfo": {
     "elapsed": 30,
     "status": "ok",
     "timestamp": 1748183385450,
     "user": {
      "displayName": "Movies Tonight",
      "userId": "05638868713549501183"
     },
     "user_tz": -300
    },
    "id": "fRSkoz_84ku_",
    "outputId": "6a7134c9-5f9e-402c-a68b-be9d6a398322"
   },
   "outputs": [
    {
     "data": {
      "text/plain": [
       "(6, torch.Size([1, 1, 400, 400]))"
      ]
     },
     "execution_count": 19,
     "metadata": {},
     "output_type": "execute_result"
    }
   ],
   "source": [
    "len(input_img), input_img[5].shape"
   ]
  },
  {
   "cell_type": "code",
   "execution_count": null,
   "metadata": {
    "colab": {
     "base_uri": "https://localhost:8080/",
     "height": 417
    },
    "executionInfo": {
     "elapsed": 2439,
     "status": "ok",
     "timestamp": 1748183387894,
     "user": {
      "displayName": "Movies Tonight",
      "userId": "05638868713549501183"
     },
     "user_tz": -300
    },
    "id": "FL3nzk0s4mwn",
    "outputId": "442db66e-a144-4eb4-de67-4c5e5a835459"
   },
   "outputs": [
    {
     "data": {
      "image/jpeg": "[encoded data removed]",
      "image/png": "[encoded data removed]",
      "text/plain": [
       "<PIL.Image.Image image mode=RGB size=400x400>"
      ]
     },
     "metadata": {},
     "output_type": "display_data"
    }
   ],
   "source": [
    "import cv2\n",
    "import numpy as np\n",
    "\n",
    "image = cv2.imread('/preprocessed_images/testing_preprocessed/testing/Herniated Disc/image_9.jpg')\n",
    "\n",
    "sharpen_kernel = np.array([[-1,-1,-1], [-1,9,-1], [-1,-1,-1]])\n",
    "sharpen = cv2.filter2D(image, 0 , sharpen_kernel)\n",
    "\n",
    "deblurred = cv2.fastNlMeansDenoisingColored(sharpen,None,10,10,7,21)\n",
    "\n",
    "cv2_imshow(deblurred)"
   ]
  },
  {
   "cell_type": "code",
   "execution_count": 21,
   "metadata": {
    "colab": {
     "base_uri": "https://localhost:8080/"
    },
    "executionInfo": {
     "elapsed": 11,
     "status": "ok",
     "timestamp": 1748183387912,
     "user": {
      "displayName": "Movies Tonight",
      "userId": "05638868713549501183"
     },
     "user_tz": -300
    },
    "id": "Tykh7Uhw4rvk",
    "outputId": "5d5211f7-9a06-4272-fe67-79ef05973397"
   },
   "outputs": [
    {
     "data": {
      "text/plain": [
       "torch.Size([1, 1, 400, 400])"
      ]
     },
     "execution_count": 21,
     "metadata": {},
     "output_type": "execute_result"
    }
   ],
   "source": [
    "input_img[0].shape"
   ]
  },
  {
   "cell_type": "code",
   "execution_count": 22,
   "metadata": {
    "colab": {
     "base_uri": "https://localhost:8080/"
    },
    "executionInfo": {
     "elapsed": 10,
     "status": "ok",
     "timestamp": 1748183387927,
     "user": {
      "displayName": "Movies Tonight",
      "userId": "05638868713549501183"
     },
     "user_tz": -300
    },
    "id": "x1PSa3Fe4syr",
    "outputId": "cfd7ddf4-1625-49fa-a9a1-da6dcac22c9a"
   },
   "outputs": [
    {
     "data": {
      "text/plain": [
       "torch.Tensor"
      ]
     },
     "execution_count": 22,
     "metadata": {},
     "output_type": "execute_result"
    }
   ],
   "source": [
    "type(input_img[0])"
   ]
  },
  {
   "cell_type": "code",
   "execution_count": 23,
   "metadata": {
    "executionInfo": {
     "elapsed": 3,
     "status": "ok",
     "timestamp": 1748183387933,
     "user": {
      "displayName": "Movies Tonight",
      "userId": "05638868713549501183"
     },
     "user_tz": -300
    },
    "id": "qQp_aI1S4yyK"
   },
   "outputs": [],
   "source": [
    "\n",
    "# batch_index, inputs, targets = None, None, None\n",
    "\n",
    "# For training visualization later\n",
    "train_accs = []\n",
    "val_accs = []\n",
    "test_accs = []\n",
    "\n",
    "y_pred_true = []\n",
    "y_pred = []\n",
    "train_losses = []  # New: Track training loss per epoch\n",
    "val_losses = []    # New: Track validation loss per epoch\n",
    "\n",
    "def train_model(model, num_epochs, criterion, optimizer, batch_size):\n",
    "  # clear all lists\n",
    "  train_accs.clear()\n",
    "  val_accs.clear()\n",
    "  test_accs.clear()\n",
    "  y_pred_true.clear()\n",
    "  y_pred.clear()\n",
    "  train_losses.clear()\n",
    "  val_losses.clear()\n",
    "\n",
    "  best_validation_accuracy = 0\n",
    "  best_testing_accuracy = 0\n",
    "\n",
    "  train_loss = 0.0\n",
    "  val_epoch_loss = 0.0\n",
    "\n",
    "  running_loss = 0.0\n",
    "  running_corrects = 0\n",
    "  early_stops = False\n",
    "\n",
    "  # training loop\n",
    "  for epoch in range(num_epochs):\n",
    "\n",
    "    if early_stops:\n",
    "      break\n",
    "\n",
    "    # Set a network to train mode, so that its parameters can be changed\n",
    "    model.train()\n",
    "    print(f\"Epoch [{epoch + 1}/{num_epochs}]\")\n",
    "\n",
    "    # print training info\n",
    "    print(\"Epoch {}:\".format(epoch))\n",
    "\n",
    "    # Statistics needed to compute classification accuracy.\n",
    "    # the total number of image examples trained on\n",
    "    total_train_examples = 0\n",
    "\n",
    "    # the number of examples classified correctly\n",
    "    num_correct_train = 0\n",
    "\n",
    "    # iterate over the training set once\n",
    "    # for batch_index, (inputs) in tqdm(enumerate(train_dataloader), total=len(train_dataset) // train_batch_size):\n",
    "    # for batch_index, inputs, targets in tqdm(enumerate(train_dataloader), total=len(train_dataset) // train_batch_size, desc=\"Training Process\"):\n",
    "    for batch_index, (inputs, targets) in tqdm(enumerate(train_dataloader), total=len(train_dataset) // batch_size, desc=\"Training Model\"):\n",
    "      inputs = inputs.to(device)\n",
    "      targets = targets.to(device)\n",
    "\n",
    "      # zero the parameter gradients\n",
    "      optimizer.zero_grad()\n",
    "\n",
    "      predictation = model(inputs)\n",
    "      loss = criterion(predictation, targets)\n",
    "      loss.backward()\n",
    "      optimizer.step()\n",
    "\n",
    "      _, predicted_class = predictation.max(1)\n",
    "      total_train_examples += predicted_class.size(0)\n",
    "      num_correct_train += predicted_class.eq(targets).sum().item()\n",
    "\n",
    "      running_loss += loss.item() * inputs.size(0)\n",
    "      running_corrects += torch.sum(predicted_class == targets)\n",
    "\n",
    "    train_acc = num_correct_train / total_train_examples\n",
    "    print(f\"Train Loss: {train_loss:.4f} | Train Acc: {train_acc:.4f}\")\n",
    "    train_accs.append(train_acc)\n",
    "\n",
    "    train_loss = running_loss / len(train_dataset)  # Average training loss\n",
    "    epoch_acc = running_corrects.double() / len(train_dataloader)\n",
    "    print(f'Train Loss: {train_loss:.4f} Acc: {epoch_acc:.4f}')\n",
    "    train_losses.append(train_loss)  # Store training loss\n",
    "\n",
    "    total_val_examples = 0\n",
    "    num_correct_val = 0\n",
    "    val_loss = 0.0\n",
    "\n",
    "\n",
    "    total_test_examples = 0\n",
    "    num_correct_test = 0\n",
    "\n",
    "    with torch.no_grad():\n",
    "      for batch_index, (inputs, targets) in tqdm(enumerate(validation_dataloader), total=len(validation_dataset) // eval_batch_size, desc=\"Validation\"):\n",
    "        inputs = inputs.to(device)\n",
    "        targets = targets.to(device)\n",
    "\n",
    "        predictation = model(inputs)\n",
    "\n",
    "        # Track validation loss\n",
    "        loss = criterion(predictation, targets)\n",
    "        val_loss += loss.item() * inputs.size(0)\n",
    "\n",
    "        _, predicted_class = predictation.max(1)\n",
    "        total_test_examples += predicted_class.size(0)\n",
    "        num_correct_test += predicted_class.eq(targets).sum().item()\n",
    "        y_pred.append(predicted_class.cpu().numpy())\n",
    "        y_pred_true.append(targets.cpu().numpy())\n",
    "\n",
    "    # Compute epoch validation loss/accuracy\n",
    "    val_epoch_loss = val_loss / len(validation_dataset)  # Average validation loss\n",
    "    test_acc = num_correct_test / total_test_examples\n",
    "    print(f\"Val Loss: {val_epoch_loss:.4f} | Val Acc: {test_acc:.4f}\")\n",
    "    test_accs.append(test_acc)\n",
    "    val_losses.append(val_epoch_loss)  # Store validation loss\n",
    "\n",
    "\n",
    "    if test_acc > best_testing_accuracy:\n",
    "      best_testing_accuracy = test_acc\n",
    "      # torch.save(net.state_dict(), \"best_model.pth\")\n",
    "      print(\"accuracy improved, saving model\")\n",
    "      net_copy = deepcopy(model)\n",
    "\n",
    "    # Early stopping condition\n",
    "    if test_acc >= 0.80:  # 80% threshold\n",
    "      print(f\"\\nEarly stopping triggered! Validation accuracy reached {test_acc*100:.2f}%\")\n",
    "      early_stop = True\n",
    "\n",
    "  return net_copy, test_acc, train_acc"
   ]
  },
  {
   "cell_type": "code",
   "execution_count": 25,
   "metadata": {
    "executionInfo": {
     "elapsed": 4,
     "status": "ok",
     "timestamp": 1748183387946,
     "user": {
      "displayName": "Movies Tonight",
      "userId": "05638868713549501183"
     },
     "user_tz": -300
    },
    "id": "Ja9rjKC748EN"
   },
   "outputs": [],
   "source": [
    "class CNN(nn.Module):\n",
    "    def __init__(self, num_classes=5):\n",
    "        super(CNN, self).__init__()\n",
    "\n",
    "        # Convolutional blocks\n",
    "        self.features = nn.Sequential(\n",
    "            # First block\n",
    "            nn.Conv2d(1, 8, kernel_size=3, padding='same'),\n",
    "            nn.ReLU(),\n",
    "            nn.MaxPool2d(kernel_size=2, stride=2),\n",
    "\n",
    "            # Subsequent blocks with increasing filters\n",
    "            self._make_block(8, 16),\n",
    "            self._make_block(16, 32),\n",
    "            self._make_block(32, 64),\n",
    "            self._make_block(64, 128),\n",
    "            self._make_block(128, 256),\n",
    "            # self._make_block(256, 512),\n",
    "            # Final processing\n",
    "            nn.BatchNorm2d(256),\n",
    "            nn.AdaptiveAvgPool2d(1)  # Reduces spatial dimensions to 1x1\n",
    "        )\n",
    "\n",
    "        # Classifier\n",
    "        self.classifier = nn.Sequential(\n",
    "            nn.Flatten(),\n",
    "            nn.Linear(256, 512),\n",
    "            nn.LeakyReLU(),\n",
    "            nn.Linear(512, num_classes),\n",
    "            nn.Softmax(dim=1)\n",
    "        )\n",
    "\n",
    "    def _make_block(self, in_channels, out_channels):\n",
    "        return nn.Sequential(\n",
    "            nn.Conv2d(in_channels, out_channels, kernel_size=3, padding='same'),\n",
    "            nn.ReLU(),\n",
    "            nn.MaxPool2d(kernel_size=2, stride=2)\n",
    "        )\n",
    "\n",
    "    def forward(self, x):\n",
    "        x = self.features(x)\n",
    "        x = self.classifier(x)\n",
    "        return x"
   ]
  },
  {
   "cell_type": "code",
   "execution_count": 26,
   "metadata": {
    "executionInfo": {
     "elapsed": 363,
     "status": "ok",
     "timestamp": 1748183388314,
     "user": {
      "displayName": "Movies Tonight",
      "userId": "05638868713549501183"
     },
     "user_tz": -300
    },
    "id": "YjRm4rH-5APz"
   },
   "outputs": [],
   "source": [
    "learning_rate = 1e-3\n",
    "num_epochs = 100\n",
    "num_classes = 3\n",
    "input_size = 400 * 400\n",
    "batch_size = 64\n",
    "\n",
    "model = CNN(num_classes=num_classes).to(device)\n",
    "\n",
    "criterion = nn.CrossEntropyLoss()\n",
    "# criterion = nn.CrossEntropyLoss(label_smoothing=0.1)\n",
    "optimizer = torch.optim.AdamW(model.parameters(), lr=learning_rate, weight_decay=1e-4)\n",
    "# optimizer = torch.optim.Adam(model.parameters(), lr=learning_rate)"
   ]
  },
  {
   "cell_type": "code",
   "execution_count": 27,
   "metadata": {
    "colab": {
     "base_uri": "https://localhost:8080/"
    },
    "executionInfo": {
     "elapsed": 2965627,
     "status": "ok",
     "timestamp": 1748186353948,
     "user": {
      "displayName": "Movies Tonight",
      "userId": "05638868713549501183"
     },
     "user_tz": -300
    },
    "id": "wInUU8AG5CbK",
    "outputId": "cc59070a-f926-42cb-d34b-bd180489804e"
   },
   "outputs": [
    {
     "name": "stdout",
     "output_type": "stream",
     "text": [
      "Epoch [1/100]\n",
      "Epoch 0:\n"
     ]
    },
    {
     "name": "stderr",
     "output_type": "stream",
     "text": [
      "Training Model:  33%|███▎      | 27/81 [00:37<01:15,  1.39s/it]\n"
     ]
    },
    {
     "name": "stdout",
     "output_type": "stream",
     "text": [
      "Train Loss: 0.0000 | Train Acc: 0.4015\n",
      "Train Loss: 1.0766 Acc: 77.4444\n"
     ]
    },
    {
     "name": "stderr",
     "output_type": "stream",
     "text": [
      "Validation: 29it [00:01, 17.92it/s]                        \n"
     ]
    },
    {
     "name": "stdout",
     "output_type": "stream",
     "text": [
      "Val Loss: 1.0821 | Val Acc: 0.4256\n",
      "accuracy improved, saving model\n",
      "Epoch [2/100]\n",
      "Epoch 1:\n"
     ]
    },
    {
     "name": "stderr",
     "output_type": "stream",
     "text": [
      "Training Model:  33%|███▎      | 27/81 [00:28<00:57,  1.07s/it]\n"
     ]
    },
    {
     "name": "stdout",
     "output_type": "stream",
     "text": [
      "Train Loss: 1.0766 | Train Acc: 0.4482\n",
      "Train Loss: 2.1286 Acc: 163.8889\n"
     ]
    },
    {
     "name": "stderr",
     "output_type": "stream",
     "text": [
      "Validation: 29it [00:01, 21.22it/s]                        \n"
     ]
    },
    {
     "name": "stdout",
     "output_type": "stream",
     "text": [
      "Val Loss: 1.0937 | Val Acc: 0.4118\n",
      "Epoch [3/100]\n",
      "Epoch 2:\n"
     ]
    },
    {
     "name": "stderr",
     "output_type": "stream",
     "text": [
      "Training Model:  33%|███▎      | 27/81 [00:28<00:56,  1.05s/it]\n"
     ]
    },
    {
     "name": "stdout",
     "output_type": "stream",
     "text": [
      "Train Loss: 2.1286 | Train Acc: 0.4553\n",
      "Train Loss: 3.1817 Acc: 251.7037\n"
     ]
    },
    {
     "name": "stderr",
     "output_type": "stream",
     "text": [
      "Validation: 29it [00:01, 21.57it/s]                        \n"
     ]
    },
    {
     "name": "stdout",
     "output_type": "stream",
     "text": [
      "Val Loss: 1.0670 | Val Acc: 0.4221\n",
      "Epoch [4/100]\n",
      "Epoch 3:\n"
     ]
    },
    {
     "name": "stderr",
     "output_type": "stream",
     "text": [
      "Training Model:  33%|███▎      | 27/81 [00:28<00:57,  1.06s/it]\n"
     ]
    },
    {
     "name": "stdout",
     "output_type": "stream",
     "text": [
      "Train Loss: 3.1817 | Train Acc: 0.5033\n",
      "Train Loss: 4.2002 Acc: 348.7778\n"
     ]
    },
    {
     "name": "stderr",
     "output_type": "stream",
     "text": [
      "Validation: 29it [00:01, 21.39it/s]                        \n"
     ]
    },
    {
     "name": "stdout",
     "output_type": "stream",
     "text": [
      "Val Loss: 1.0256 | Val Acc: 0.5087\n",
      "accuracy improved, saving model\n",
      "Epoch [5/100]\n",
      "Epoch 4:\n"
     ]
    },
    {
     "name": "stderr",
     "output_type": "stream",
     "text": [
      "Training Model:  33%|███▎      | 27/81 [00:28<00:56,  1.05s/it]\n"
     ]
    },
    {
     "name": "stdout",
     "output_type": "stream",
     "text": [
      "Train Loss: 4.2002 | Train Acc: 0.5684\n",
      "Train Loss: 5.1677 Acc: 458.4074\n"
     ]
    },
    {
     "name": "stderr",
     "output_type": "stream",
     "text": [
      "Validation: 29it [00:01, 18.57it/s]                        \n"
     ]
    },
    {
     "name": "stdout",
     "output_type": "stream",
     "text": [
      "Val Loss: 1.0194 | Val Acc: 0.4948\n",
      "Epoch [6/100]\n",
      "Epoch 5:\n"
     ]
    },
    {
     "name": "stderr",
     "output_type": "stream",
     "text": [
      "Training Model:  33%|███▎      | 27/81 [00:28<00:56,  1.04s/it]\n"
     ]
    },
    {
     "name": "stdout",
     "output_type": "stream",
     "text": [
      "Train Loss: 5.1677 | Train Acc: 0.6179\n",
      "Train Loss: 6.0937 Acc: 577.5926\n"
     ]
    },
    {
     "name": "stderr",
     "output_type": "stream",
     "text": [
      "Validation: 29it [00:01, 21.22it/s]                        \n"
     ]
    },
    {
     "name": "stdout",
     "output_type": "stream",
     "text": [
      "Val Loss: 1.0325 | Val Acc: 0.4879\n",
      "Epoch [7/100]\n",
      "Epoch 6:\n"
     ]
    },
    {
     "name": "stderr",
     "output_type": "stream",
     "text": [
      "Training Model:  33%|███▎      | 27/81 [00:27<00:55,  1.03s/it]\n"
     ]
    },
    {
     "name": "stdout",
     "output_type": "stream",
     "text": [
      "Train Loss: 6.0937 | Train Acc: 0.6071\n",
      "Train Loss: 7.0238 Acc: 694.7037\n"
     ]
    },
    {
     "name": "stderr",
     "output_type": "stream",
     "text": [
      "Validation: 29it [00:01, 21.60it/s]                        \n"
     ]
    },
    {
     "name": "stdout",
     "output_type": "stream",
     "text": [
      "Val Loss: 1.0025 | Val Acc: 0.5121\n",
      "accuracy improved, saving model\n",
      "Epoch [8/100]\n",
      "Epoch 7:\n"
     ]
    },
    {
     "name": "stderr",
     "output_type": "stream",
     "text": [
      "Training Model:  33%|███▎      | 27/81 [00:28<00:57,  1.06s/it]\n"
     ]
    },
    {
     "name": "stdout",
     "output_type": "stream",
     "text": [
      "Train Loss: 7.0238 | Train Acc: 0.6703\n",
      "Train Loss: 7.8990 Acc: 824.0000\n"
     ]
    },
    {
     "name": "stderr",
     "output_type": "stream",
     "text": [
      "Validation: 29it [00:01, 20.87it/s]                        \n"
     ]
    },
    {
     "name": "stdout",
     "output_type": "stream",
     "text": [
      "Val Loss: 1.0115 | Val Acc: 0.5087\n",
      "Epoch [9/100]\n",
      "Epoch 8:\n"
     ]
    },
    {
     "name": "stderr",
     "output_type": "stream",
     "text": [
      "Training Model:  33%|███▎      | 27/81 [00:27<00:55,  1.03s/it]\n"
     ]
    },
    {
     "name": "stdout",
     "output_type": "stream",
     "text": [
      "Train Loss: 7.8990 | Train Acc: 0.7099\n",
      "Train Loss: 8.7342 Acc: 960.9259\n"
     ]
    },
    {
     "name": "stderr",
     "output_type": "stream",
     "text": [
      "Validation: 29it [00:01, 19.24it/s]                        \n"
     ]
    },
    {
     "name": "stdout",
     "output_type": "stream",
     "text": [
      "Val Loss: 0.9451 | Val Acc: 0.5952\n",
      "accuracy improved, saving model\n",
      "Epoch [10/100]\n",
      "Epoch 9:\n"
     ]
    },
    {
     "name": "stderr",
     "output_type": "stream",
     "text": [
      "Training Model:  33%|███▎      | 27/81 [00:27<00:55,  1.03s/it]\n"
     ]
    },
    {
     "name": "stdout",
     "output_type": "stream",
     "text": [
      "Train Loss: 8.7342 | Train Acc: 0.7331\n",
      "Train Loss: 9.5509 Acc: 1102.3333\n"
     ]
    },
    {
     "name": "stderr",
     "output_type": "stream",
     "text": [
      "Validation: 29it [00:01, 21.88it/s]                        \n"
     ]
    },
    {
     "name": "stdout",
     "output_type": "stream",
     "text": [
      "Val Loss: 0.9561 | Val Acc: 0.5744\n",
      "Epoch [11/100]\n",
      "Epoch 10:\n"
     ]
    },
    {
     "name": "stderr",
     "output_type": "stream",
     "text": [
      "Training Model:  33%|███▎      | 27/81 [00:27<00:55,  1.03s/it]\n"
     ]
    },
    {
     "name": "stdout",
     "output_type": "stream",
     "text": [
      "Train Loss: 9.5509 | Train Acc: 0.7375\n",
      "Train Loss: 10.3627 Acc: 1244.5926\n"
     ]
    },
    {
     "name": "stderr",
     "output_type": "stream",
     "text": [
      "Validation: 29it [00:01, 21.80it/s]                        \n"
     ]
    },
    {
     "name": "stdout",
     "output_type": "stream",
     "text": [
      "Val Loss: 0.9701 | Val Acc: 0.5571\n",
      "Epoch [12/100]\n",
      "Epoch 11:\n"
     ]
    },
    {
     "name": "stderr",
     "output_type": "stream",
     "text": [
      "Training Model:  33%|███▎      | 27/81 [00:27<00:55,  1.04s/it]\n"
     ]
    },
    {
     "name": "stdout",
     "output_type": "stream",
     "text": [
      "Train Loss: 10.3627 | Train Acc: 0.7333\n",
      "Train Loss: 11.1728 Acc: 1386.0370\n"
     ]
    },
    {
     "name": "stderr",
     "output_type": "stream",
     "text": [
      "Validation: 29it [00:01, 21.61it/s]                        \n"
     ]
    },
    {
     "name": "stdout",
     "output_type": "stream",
     "text": [
      "Val Loss: 0.9192 | Val Acc: 0.6228\n",
      "accuracy improved, saving model\n",
      "Epoch [13/100]\n",
      "Epoch 12:\n"
     ]
    },
    {
     "name": "stderr",
     "output_type": "stream",
     "text": [
      "Training Model:  33%|███▎      | 27/81 [00:28<00:56,  1.04s/it]\n"
     ]
    },
    {
     "name": "stdout",
     "output_type": "stream",
     "text": [
      "Train Loss: 11.1728 | Train Acc: 0.7830\n",
      "Train Loss: 11.9393 Acc: 1537.0741\n"
     ]
    },
    {
     "name": "stderr",
     "output_type": "stream",
     "text": [
      "Validation: 29it [00:01, 18.59it/s]                        \n"
     ]
    },
    {
     "name": "stdout",
     "output_type": "stream",
     "text": [
      "Val Loss: 0.9535 | Val Acc: 0.5848\n",
      "Epoch [14/100]\n",
      "Epoch 13:\n"
     ]
    },
    {
     "name": "stderr",
     "output_type": "stream",
     "text": [
      "Training Model:  33%|███▎      | 27/81 [00:28<00:56,  1.04s/it]\n"
     ]
    },
    {
     "name": "stdout",
     "output_type": "stream",
     "text": [
      "Train Loss: 11.9393 | Train Acc: 0.7675\n",
      "Train Loss: 12.7183 Acc: 1685.1111\n"
     ]
    },
    {
     "name": "stderr",
     "output_type": "stream",
     "text": [
      "Validation: 29it [00:01, 21.78it/s]                        \n"
     ]
    },
    {
     "name": "stdout",
     "output_type": "stream",
     "text": [
      "Val Loss: 0.9316 | Val Acc: 0.6021\n",
      "Epoch [15/100]\n",
      "Epoch 14:\n"
     ]
    },
    {
     "name": "stderr",
     "output_type": "stream",
     "text": [
      "Training Model:  33%|███▎      | 27/81 [00:28<00:56,  1.04s/it]\n"
     ]
    },
    {
     "name": "stdout",
     "output_type": "stream",
     "text": [
      "Train Loss: 12.7183 | Train Acc: 0.8109\n",
      "Train Loss: 13.4572 Acc: 1841.5185\n"
     ]
    },
    {
     "name": "stderr",
     "output_type": "stream",
     "text": [
      "Validation: 29it [00:01, 21.79it/s]                        \n"
     ]
    },
    {
     "name": "stdout",
     "output_type": "stream",
     "text": [
      "Val Loss: 0.9502 | Val Acc: 0.5952\n",
      "Epoch [16/100]\n",
      "Epoch 15:\n"
     ]
    },
    {
     "name": "stderr",
     "output_type": "stream",
     "text": [
      "Training Model:  33%|███▎      | 27/81 [00:27<00:55,  1.03s/it]\n"
     ]
    },
    {
     "name": "stdout",
     "output_type": "stream",
     "text": [
      "Train Loss: 13.4572 | Train Acc: 0.8289\n",
      "Train Loss: 14.1807 Acc: 2001.4074\n"
     ]
    },
    {
     "name": "stderr",
     "output_type": "stream",
     "text": [
      "Validation: 29it [00:01, 21.74it/s]                        \n"
     ]
    },
    {
     "name": "stdout",
     "output_type": "stream",
     "text": [
      "Val Loss: 0.9410 | Val Acc: 0.5952\n",
      "Epoch [17/100]\n",
      "Epoch 16:\n"
     ]
    },
    {
     "name": "stderr",
     "output_type": "stream",
     "text": [
      "Training Model:  33%|███▎      | 27/81 [00:27<00:55,  1.02s/it]\n"
     ]
    },
    {
     "name": "stdout",
     "output_type": "stream",
     "text": [
      "Train Loss: 14.1807 | Train Acc: 0.8232\n",
      "Train Loss: 14.9090 Acc: 2160.1852\n"
     ]
    },
    {
     "name": "stderr",
     "output_type": "stream",
     "text": [
      "Validation: 29it [00:01, 18.83it/s]                        \n"
     ]
    },
    {
     "name": "stdout",
     "output_type": "stream",
     "text": [
      "Val Loss: 0.8947 | Val Acc: 0.6505\n",
      "accuracy improved, saving model\n",
      "Epoch [18/100]\n",
      "Epoch 17:\n"
     ]
    },
    {
     "name": "stderr",
     "output_type": "stream",
     "text": [
      "Training Model:  33%|███▎      | 27/81 [00:27<00:55,  1.03s/it]\n"
     ]
    },
    {
     "name": "stdout",
     "output_type": "stream",
     "text": [
      "Train Loss: 14.9090 | Train Acc: 0.8625\n",
      "Train Loss: 15.5982 Acc: 2326.5556\n"
     ]
    },
    {
     "name": "stderr",
     "output_type": "stream",
     "text": [
      "Validation: 29it [00:01, 21.47it/s]\n"
     ]
    },
    {
     "name": "stdout",
     "output_type": "stream",
     "text": [
      "Val Loss: 0.8904 | Val Acc: 0.6401\n",
      "Epoch [19/100]\n",
      "Epoch 18:\n"
     ]
    },
    {
     "name": "stderr",
     "output_type": "stream",
     "text": [
      "Training Model:  33%|███▎      | 27/81 [00:27<00:55,  1.03s/it]\n"
     ]
    },
    {
     "name": "stdout",
     "output_type": "stream",
     "text": [
      "Train Loss: 15.5982 | Train Acc: 0.8525\n",
      "Train Loss: 16.2938 Acc: 2491.0000\n"
     ]
    },
    {
     "name": "stderr",
     "output_type": "stream",
     "text": [
      "Validation: 29it [00:01, 21.90it/s]                        \n"
     ]
    },
    {
     "name": "stdout",
     "output_type": "stream",
     "text": [
      "Val Loss: 0.8765 | Val Acc: 0.6574\n",
      "accuracy improved, saving model\n",
      "Epoch [20/100]\n",
      "Epoch 19:\n"
     ]
    },
    {
     "name": "stderr",
     "output_type": "stream",
     "text": [
      "Training Model:  33%|███▎      | 27/81 [00:27<00:55,  1.03s/it]\n"
     ]
    },
    {
     "name": "stdout",
     "output_type": "stream",
     "text": [
      "Train Loss: 16.2938 | Train Acc: 0.8790\n",
      "Train Loss: 16.9673 Acc: 2660.5556\n"
     ]
    },
    {
     "name": "stderr",
     "output_type": "stream",
     "text": [
      "Validation: 29it [00:01, 21.38it/s]                        \n"
     ]
    },
    {
     "name": "stdout",
     "output_type": "stream",
     "text": [
      "Val Loss: 0.8861 | Val Acc: 0.6609\n",
      "accuracy improved, saving model\n",
      "Epoch [21/100]\n",
      "Epoch 20:\n"
     ]
    },
    {
     "name": "stderr",
     "output_type": "stream",
     "text": [
      "Training Model:  33%|███▎      | 27/81 [00:27<00:55,  1.03s/it]\n"
     ]
    },
    {
     "name": "stdout",
     "output_type": "stream",
     "text": [
      "Train Loss: 16.9673 | Train Acc: 0.9075\n",
      "Train Loss: 17.6132 Acc: 2835.5926\n"
     ]
    },
    {
     "name": "stderr",
     "output_type": "stream",
     "text": [
      "Validation: 29it [00:01, 18.64it/s]                        \n"
     ]
    },
    {
     "name": "stdout",
     "output_type": "stream",
     "text": [
      "Val Loss: 0.8750 | Val Acc: 0.6747\n",
      "accuracy improved, saving model\n",
      "Epoch [22/100]\n",
      "Epoch 21:\n"
     ]
    },
    {
     "name": "stderr",
     "output_type": "stream",
     "text": [
      "Training Model:  33%|███▎      | 27/81 [00:27<00:55,  1.04s/it]\n"
     ]
    },
    {
     "name": "stdout",
     "output_type": "stream",
     "text": [
      "Train Loss: 17.6132 | Train Acc: 0.8760\n",
      "Train Loss: 18.2898 Acc: 3004.5556\n"
     ]
    },
    {
     "name": "stderr",
     "output_type": "stream",
     "text": [
      "Validation: 29it [00:01, 21.86it/s]\n"
     ]
    },
    {
     "name": "stdout",
     "output_type": "stream",
     "text": [
      "Val Loss: 0.9510 | Val Acc: 0.5779\n",
      "Epoch [23/100]\n",
      "Epoch 22:\n"
     ]
    },
    {
     "name": "stderr",
     "output_type": "stream",
     "text": [
      "Training Model:  33%|███▎      | 27/81 [00:28<00:57,  1.06s/it]\n"
     ]
    },
    {
     "name": "stdout",
     "output_type": "stream",
     "text": [
      "Train Loss: 18.2898 | Train Acc: 0.7417\n",
      "Train Loss: 19.0902 Acc: 3147.6296\n"
     ]
    },
    {
     "name": "stderr",
     "output_type": "stream",
     "text": [
      "Validation: 29it [00:01, 21.66it/s]                        \n"
     ]
    },
    {
     "name": "stdout",
     "output_type": "stream",
     "text": [
      "Val Loss: 0.9264 | Val Acc: 0.6125\n",
      "Epoch [24/100]\n",
      "Epoch 23:\n"
     ]
    },
    {
     "name": "stderr",
     "output_type": "stream",
     "text": [
      "Training Model:  33%|███▎      | 27/81 [00:27<00:55,  1.03s/it]\n"
     ]
    },
    {
     "name": "stdout",
     "output_type": "stream",
     "text": [
      "Train Loss: 19.0902 | Train Acc: 0.8562\n",
      "Train Loss: 19.7868 Acc: 3312.7778\n"
     ]
    },
    {
     "name": "stderr",
     "output_type": "stream",
     "text": [
      "Validation: 29it [00:01, 21.72it/s]                        \n"
     ]
    },
    {
     "name": "stdout",
     "output_type": "stream",
     "text": [
      "Val Loss: 0.8780 | Val Acc: 0.6644\n",
      "Epoch [25/100]\n",
      "Epoch 24:\n"
     ]
    },
    {
     "name": "stderr",
     "output_type": "stream",
     "text": [
      "Training Model:  33%|███▎      | 27/81 [00:27<00:55,  1.03s/it]\n"
     ]
    },
    {
     "name": "stdout",
     "output_type": "stream",
     "text": [
      "Train Loss: 19.7868 | Train Acc: 0.8648\n",
      "Train Loss: 20.4752 Acc: 3479.5926\n"
     ]
    },
    {
     "name": "stderr",
     "output_type": "stream",
     "text": [
      "Validation: 29it [00:01, 18.71it/s]                        \n"
     ]
    },
    {
     "name": "stdout",
     "output_type": "stream",
     "text": [
      "Val Loss: 0.8772 | Val Acc: 0.6505\n",
      "Epoch [26/100]\n",
      "Epoch 25:\n"
     ]
    },
    {
     "name": "stderr",
     "output_type": "stream",
     "text": [
      "Training Model:  33%|███▎      | 27/81 [00:27<00:55,  1.03s/it]\n"
     ]
    },
    {
     "name": "stdout",
     "output_type": "stream",
     "text": [
      "Train Loss: 20.4752 | Train Acc: 0.9103\n",
      "Train Loss: 21.1186 Acc: 3655.1852\n"
     ]
    },
    {
     "name": "stderr",
     "output_type": "stream",
     "text": [
      "Validation: 29it [00:01, 21.45it/s]                        \n"
     ]
    },
    {
     "name": "stdout",
     "output_type": "stream",
     "text": [
      "Val Loss: 0.8705 | Val Acc: 0.6713\n",
      "Epoch [27/100]\n",
      "Epoch 26:\n"
     ]
    },
    {
     "name": "stderr",
     "output_type": "stream",
     "text": [
      "Training Model:  33%|███▎      | 27/81 [00:28<00:56,  1.04s/it]\n"
     ]
    },
    {
     "name": "stdout",
     "output_type": "stream",
     "text": [
      "Train Loss: 21.1186 | Train Acc: 0.8984\n",
      "Train Loss: 21.7752 Acc: 3828.4815\n"
     ]
    },
    {
     "name": "stderr",
     "output_type": "stream",
     "text": [
      "Validation: 29it [00:01, 21.17it/s]                        \n"
     ]
    },
    {
     "name": "stdout",
     "output_type": "stream",
     "text": [
      "Val Loss: 0.9038 | Val Acc: 0.6367\n",
      "Epoch [28/100]\n",
      "Epoch 27:\n"
     ]
    },
    {
     "name": "stderr",
     "output_type": "stream",
     "text": [
      "Training Model:  33%|███▎      | 27/81 [00:27<00:55,  1.03s/it]\n"
     ]
    },
    {
     "name": "stdout",
     "output_type": "stream",
     "text": [
      "Train Loss: 21.7752 | Train Acc: 0.8224\n",
      "Train Loss: 22.5008 Acc: 3987.1111\n"
     ]
    },
    {
     "name": "stderr",
     "output_type": "stream",
     "text": [
      "Validation: 29it [00:01, 21.76it/s]                        \n"
     ]
    },
    {
     "name": "stdout",
     "output_type": "stream",
     "text": [
      "Val Loss: 0.9078 | Val Acc: 0.6298\n",
      "Epoch [29/100]\n",
      "Epoch 28:\n"
     ]
    },
    {
     "name": "stderr",
     "output_type": "stream",
     "text": [
      "Training Model:  33%|███▎      | 27/81 [00:27<00:55,  1.03s/it]\n"
     ]
    },
    {
     "name": "stdout",
     "output_type": "stream",
     "text": [
      "Train Loss: 22.5008 | Train Acc: 0.8602\n",
      "Train Loss: 23.1887 Acc: 4153.0370\n"
     ]
    },
    {
     "name": "stderr",
     "output_type": "stream",
     "text": [
      "Validation: 29it [00:01, 18.13it/s]                        \n"
     ]
    },
    {
     "name": "stdout",
     "output_type": "stream",
     "text": [
      "Val Loss: 0.8748 | Val Acc: 0.6747\n",
      "Epoch [30/100]\n",
      "Epoch 29:\n"
     ]
    },
    {
     "name": "stderr",
     "output_type": "stream",
     "text": [
      "Training Model:  33%|███▎      | 27/81 [00:27<00:55,  1.04s/it]\n"
     ]
    },
    {
     "name": "stdout",
     "output_type": "stream",
     "text": [
      "Train Loss: 23.1887 | Train Acc: 0.8783\n",
      "Train Loss: 23.8627 Acc: 4322.4444\n"
     ]
    },
    {
     "name": "stderr",
     "output_type": "stream",
     "text": [
      "Validation: 29it [00:01, 21.75it/s]                        \n"
     ]
    },
    {
     "name": "stdout",
     "output_type": "stream",
     "text": [
      "Val Loss: 0.9082 | Val Acc: 0.6228\n",
      "Epoch [31/100]\n",
      "Epoch 30:\n"
     ]
    },
    {
     "name": "stderr",
     "output_type": "stream",
     "text": [
      "Training Model:  33%|███▎      | 27/81 [00:27<00:55,  1.03s/it]\n"
     ]
    },
    {
     "name": "stdout",
     "output_type": "stream",
     "text": [
      "Train Loss: 23.8627 | Train Acc: 0.8802\n",
      "Train Loss: 24.5336 Acc: 4492.2222\n"
     ]
    },
    {
     "name": "stderr",
     "output_type": "stream",
     "text": [
      "Validation: 29it [00:01, 21.82it/s]                        \n"
     ]
    },
    {
     "name": "stdout",
     "output_type": "stream",
     "text": [
      "Val Loss: 0.8748 | Val Acc: 0.6678\n",
      "Epoch [32/100]\n",
      "Epoch 31:\n"
     ]
    },
    {
     "name": "stderr",
     "output_type": "stream",
     "text": [
      "Training Model:  33%|███▎      | 27/81 [00:27<00:55,  1.03s/it]\n"
     ]
    },
    {
     "name": "stdout",
     "output_type": "stream",
     "text": [
      "Train Loss: 24.5336 | Train Acc: 0.8685\n",
      "Train Loss: 25.2163 Acc: 4659.7407\n"
     ]
    },
    {
     "name": "stderr",
     "output_type": "stream",
     "text": [
      "Validation: 29it [00:01, 21.86it/s]                        \n"
     ]
    },
    {
     "name": "stdout",
     "output_type": "stream",
     "text": [
      "Val Loss: 0.8786 | Val Acc: 0.6644\n",
      "Epoch [33/100]\n",
      "Epoch 32:\n"
     ]
    },
    {
     "name": "stderr",
     "output_type": "stream",
     "text": [
      "Training Model:  33%|███▎      | 27/81 [00:27<00:55,  1.03s/it]\n"
     ]
    },
    {
     "name": "stdout",
     "output_type": "stream",
     "text": [
      "Train Loss: 25.2163 | Train Acc: 0.9267\n",
      "Train Loss: 25.8417 Acc: 4838.4815\n"
     ]
    },
    {
     "name": "stderr",
     "output_type": "stream",
     "text": [
      "Validation: 29it [00:01, 19.52it/s]                        \n"
     ]
    },
    {
     "name": "stdout",
     "output_type": "stream",
     "text": [
      "Val Loss: 0.8355 | Val Acc: 0.7093\n",
      "accuracy improved, saving model\n",
      "Epoch [34/100]\n",
      "Epoch 33:\n"
     ]
    },
    {
     "name": "stderr",
     "output_type": "stream",
     "text": [
      "Training Model:  33%|███▎      | 27/81 [00:27<00:55,  1.03s/it]\n"
     ]
    },
    {
     "name": "stdout",
     "output_type": "stream",
     "text": [
      "Train Loss: 25.8417 | Train Acc: 0.9447\n",
      "Train Loss: 26.4504 Acc: 5020.7037\n"
     ]
    },
    {
     "name": "stderr",
     "output_type": "stream",
     "text": [
      "Validation: 29it [00:01, 20.51it/s]                        \n"
     ]
    },
    {
     "name": "stdout",
     "output_type": "stream",
     "text": [
      "Val Loss: 0.8481 | Val Acc: 0.6920\n",
      "Epoch [35/100]\n",
      "Epoch 34:\n"
     ]
    },
    {
     "name": "stderr",
     "output_type": "stream",
     "text": [
      "Training Model:  33%|███▎      | 27/81 [00:27<00:55,  1.03s/it]\n"
     ]
    },
    {
     "name": "stdout",
     "output_type": "stream",
     "text": [
      "Train Loss: 26.4504 | Train Acc: 0.9092\n",
      "Train Loss: 27.0928 Acc: 5196.0741\n"
     ]
    },
    {
     "name": "stderr",
     "output_type": "stream",
     "text": [
      "Validation: 29it [00:01, 21.96it/s]                        \n"
     ]
    },
    {
     "name": "stdout",
     "output_type": "stream",
     "text": [
      "Val Loss: 0.8719 | Val Acc: 0.6678\n",
      "Epoch [36/100]\n",
      "Epoch 35:\n"
     ]
    },
    {
     "name": "stderr",
     "output_type": "stream",
     "text": [
      "Training Model:  33%|███▎      | 27/81 [00:27<00:55,  1.04s/it]\n"
     ]
    },
    {
     "name": "stdout",
     "output_type": "stream",
     "text": [
      "Train Loss: 27.0928 | Train Acc: 0.9046\n",
      "Train Loss: 27.7412 Acc: 5370.5556\n"
     ]
    },
    {
     "name": "stderr",
     "output_type": "stream",
     "text": [
      "Validation: 29it [00:01, 21.58it/s]                        \n"
     ]
    },
    {
     "name": "stdout",
     "output_type": "stream",
     "text": [
      "Val Loss: 0.8708 | Val Acc: 0.6817\n",
      "Epoch [37/100]\n",
      "Epoch 36:\n"
     ]
    },
    {
     "name": "stderr",
     "output_type": "stream",
     "text": [
      "Training Model:  33%|███▎      | 27/81 [00:27<00:55,  1.02s/it]\n"
     ]
    },
    {
     "name": "stdout",
     "output_type": "stream",
     "text": [
      "Train Loss: 27.7412 | Train Acc: 0.8992\n",
      "Train Loss: 28.3938 Acc: 5544.0000\n"
     ]
    },
    {
     "name": "stderr",
     "output_type": "stream",
     "text": [
      "Validation: 29it [00:01, 21.29it/s]                        \n"
     ]
    },
    {
     "name": "stdout",
     "output_type": "stream",
     "text": [
      "Val Loss: 0.8585 | Val Acc: 0.6713\n",
      "Epoch [38/100]\n",
      "Epoch 37:\n"
     ]
    },
    {
     "name": "stderr",
     "output_type": "stream",
     "text": [
      "Training Model:  33%|███▎      | 27/81 [00:27<00:55,  1.03s/it]\n"
     ]
    },
    {
     "name": "stdout",
     "output_type": "stream",
     "text": [
      "Train Loss: 28.3938 | Train Acc: 0.8886\n",
      "Train Loss: 29.0550 Acc: 5715.4074\n"
     ]
    },
    {
     "name": "stderr",
     "output_type": "stream",
     "text": [
      "Validation: 29it [00:01, 18.13it/s]\n"
     ]
    },
    {
     "name": "stdout",
     "output_type": "stream",
     "text": [
      "Val Loss: 0.8354 | Val Acc: 0.7059\n",
      "Epoch [39/100]\n",
      "Epoch 38:\n"
     ]
    },
    {
     "name": "stderr",
     "output_type": "stream",
     "text": [
      "Training Model:  33%|███▎      | 27/81 [00:27<00:55,  1.03s/it]\n"
     ]
    },
    {
     "name": "stdout",
     "output_type": "stream",
     "text": [
      "Train Loss: 29.0550 | Train Acc: 0.9460\n",
      "Train Loss: 29.6623 Acc: 5897.8889\n"
     ]
    },
    {
     "name": "stderr",
     "output_type": "stream",
     "text": [
      "Validation: 29it [00:01, 21.58it/s]                        \n"
     ]
    },
    {
     "name": "stdout",
     "output_type": "stream",
     "text": [
      "Val Loss: 0.8237 | Val Acc: 0.7128\n",
      "accuracy improved, saving model\n",
      "Epoch [40/100]\n",
      "Epoch 39:\n"
     ]
    },
    {
     "name": "stderr",
     "output_type": "stream",
     "text": [
      "Training Model:  33%|███▎      | 27/81 [00:27<00:55,  1.02s/it]\n"
     ]
    },
    {
     "name": "stdout",
     "output_type": "stream",
     "text": [
      "Train Loss: 29.6623 | Train Acc: 0.9547\n",
      "Train Loss: 30.2601 Acc: 6082.0370\n"
     ]
    },
    {
     "name": "stderr",
     "output_type": "stream",
     "text": [
      "Validation: 29it [00:01, 21.90it/s]                        \n"
     ]
    },
    {
     "name": "stdout",
     "output_type": "stream",
     "text": [
      "Val Loss: 0.8276 | Val Acc: 0.7163\n",
      "accuracy improved, saving model\n",
      "Epoch [41/100]\n",
      "Epoch 40:\n"
     ]
    },
    {
     "name": "stderr",
     "output_type": "stream",
     "text": [
      "Training Model:  33%|███▎      | 27/81 [00:27<00:55,  1.03s/it]\n"
     ]
    },
    {
     "name": "stdout",
     "output_type": "stream",
     "text": [
      "Train Loss: 30.2601 | Train Acc: 0.9293\n",
      "Train Loss: 30.8821 Acc: 6261.2963\n"
     ]
    },
    {
     "name": "stderr",
     "output_type": "stream",
     "text": [
      "Validation: 29it [00:01, 21.48it/s]                        \n"
     ]
    },
    {
     "name": "stdout",
     "output_type": "stream",
     "text": [
      "Val Loss: 0.8253 | Val Acc: 0.7266\n",
      "accuracy improved, saving model\n",
      "Epoch [42/100]\n",
      "Epoch 41:\n"
     ]
    },
    {
     "name": "stderr",
     "output_type": "stream",
     "text": [
      "Training Model:  33%|███▎      | 27/81 [00:27<00:55,  1.04s/it]\n"
     ]
    },
    {
     "name": "stdout",
     "output_type": "stream",
     "text": [
      "Train Loss: 30.8821 | Train Acc: 0.9570\n",
      "Train Loss: 31.4773 Acc: 6445.8889\n"
     ]
    },
    {
     "name": "stderr",
     "output_type": "stream",
     "text": [
      "Validation: 29it [00:01, 18.55it/s]                        \n"
     ]
    },
    {
     "name": "stdout",
     "output_type": "stream",
     "text": [
      "Val Loss: 0.8160 | Val Acc: 0.7232\n",
      "Epoch [43/100]\n",
      "Epoch 42:\n"
     ]
    },
    {
     "name": "stderr",
     "output_type": "stream",
     "text": [
      "Training Model:  33%|███▎      | 27/81 [00:28<00:56,  1.04s/it]\n"
     ]
    },
    {
     "name": "stdout",
     "output_type": "stream",
     "text": [
      "Train Loss: 31.4773 | Train Acc: 0.9579\n",
      "Train Loss: 32.0713 Acc: 6630.6667\n"
     ]
    },
    {
     "name": "stderr",
     "output_type": "stream",
     "text": [
      "Validation: 29it [00:01, 21.32it/s]                        \n"
     ]
    },
    {
     "name": "stdout",
     "output_type": "stream",
     "text": [
      "Val Loss: 0.8386 | Val Acc: 0.7128\n",
      "Epoch [44/100]\n",
      "Epoch 43:\n"
     ]
    },
    {
     "name": "stderr",
     "output_type": "stream",
     "text": [
      "Training Model:  33%|███▎      | 27/81 [00:28<00:56,  1.05s/it]\n"
     ]
    },
    {
     "name": "stdout",
     "output_type": "stream",
     "text": [
      "Train Loss: 32.0713 | Train Acc: 0.9274\n",
      "Train Loss: 32.6943 Acc: 6809.5556\n"
     ]
    },
    {
     "name": "stderr",
     "output_type": "stream",
     "text": [
      "Validation: 29it [00:01, 21.21it/s]                        \n"
     ]
    },
    {
     "name": "stdout",
     "output_type": "stream",
     "text": [
      "Val Loss: 0.8302 | Val Acc: 0.7093\n",
      "Epoch [45/100]\n",
      "Epoch 44:\n"
     ]
    },
    {
     "name": "stderr",
     "output_type": "stream",
     "text": [
      "Training Model:  33%|███▎      | 27/81 [00:28<00:57,  1.07s/it]\n"
     ]
    },
    {
     "name": "stdout",
     "output_type": "stream",
     "text": [
      "Train Loss: 32.6943 | Train Acc: 0.9562\n",
      "Train Loss: 33.2890 Acc: 6994.0000\n"
     ]
    },
    {
     "name": "stderr",
     "output_type": "stream",
     "text": [
      "Validation: 29it [00:01, 20.24it/s]                        \n"
     ]
    },
    {
     "name": "stdout",
     "output_type": "stream",
     "text": [
      "Val Loss: 0.7994 | Val Acc: 0.7474\n",
      "accuracy improved, saving model\n",
      "Epoch [46/100]\n",
      "Epoch 45:\n"
     ]
    },
    {
     "name": "stderr",
     "output_type": "stream",
     "text": [
      "Training Model:  33%|███▎      | 27/81 [00:28<00:57,  1.07s/it]\n"
     ]
    },
    {
     "name": "stdout",
     "output_type": "stream",
     "text": [
      "Train Loss: 33.2890 | Train Acc: 0.9003\n",
      "Train Loss: 33.9397 Acc: 7167.6667\n"
     ]
    },
    {
     "name": "stderr",
     "output_type": "stream",
     "text": [
      "Validation: 29it [00:01, 18.82it/s]                        \n"
     ]
    },
    {
     "name": "stdout",
     "output_type": "stream",
     "text": [
      "Val Loss: 0.8618 | Val Acc: 0.6644\n",
      "Epoch [47/100]\n",
      "Epoch 46:\n"
     ]
    },
    {
     "name": "stderr",
     "output_type": "stream",
     "text": [
      "Training Model:  33%|███▎      | 27/81 [00:28<00:56,  1.05s/it]\n"
     ]
    },
    {
     "name": "stdout",
     "output_type": "stream",
     "text": [
      "Train Loss: 33.9397 | Train Acc: 0.9395\n",
      "Train Loss: 34.5520 Acc: 7348.8889\n"
     ]
    },
    {
     "name": "stderr",
     "output_type": "stream",
     "text": [
      "Validation: 29it [00:01, 17.28it/s]                        \n"
     ]
    },
    {
     "name": "stdout",
     "output_type": "stream",
     "text": [
      "Val Loss: 0.8255 | Val Acc: 0.7232\n",
      "Epoch [48/100]\n",
      "Epoch 47:\n"
     ]
    },
    {
     "name": "stderr",
     "output_type": "stream",
     "text": [
      "Training Model:  33%|███▎      | 27/81 [00:28<00:57,  1.06s/it]\n"
     ]
    },
    {
     "name": "stdout",
     "output_type": "stream",
     "text": [
      "Train Loss: 34.5520 | Train Acc: 0.9119\n",
      "Train Loss: 35.1910 Acc: 7524.7778\n"
     ]
    },
    {
     "name": "stderr",
     "output_type": "stream",
     "text": [
      "Validation: 29it [00:01, 20.67it/s]                        \n"
     ]
    },
    {
     "name": "stdout",
     "output_type": "stream",
     "text": [
      "Val Loss: 0.8456 | Val Acc: 0.6920\n",
      "Epoch [49/100]\n",
      "Epoch 48:\n"
     ]
    },
    {
     "name": "stderr",
     "output_type": "stream",
     "text": [
      "Training Model:  33%|███▎      | 27/81 [00:28<00:57,  1.06s/it]\n"
     ]
    },
    {
     "name": "stdout",
     "output_type": "stream",
     "text": [
      "Train Loss: 35.1910 | Train Acc: 0.9485\n",
      "Train Loss: 35.7943 Acc: 7707.7407\n"
     ]
    },
    {
     "name": "stderr",
     "output_type": "stream",
     "text": [
      "Validation: 29it [00:01, 18.17it/s]                        \n"
     ]
    },
    {
     "name": "stdout",
     "output_type": "stream",
     "text": [
      "Val Loss: 0.8299 | Val Acc: 0.7128\n",
      "Epoch [50/100]\n",
      "Epoch 49:\n"
     ]
    },
    {
     "name": "stderr",
     "output_type": "stream",
     "text": [
      "Training Model:  33%|███▎      | 27/81 [00:28<00:56,  1.05s/it]\n"
     ]
    },
    {
     "name": "stdout",
     "output_type": "stream",
     "text": [
      "Train Loss: 35.7943 | Train Acc: 0.9643\n",
      "Train Loss: 36.3825 Acc: 7893.7407\n"
     ]
    },
    {
     "name": "stderr",
     "output_type": "stream",
     "text": [
      "Validation: 29it [00:01, 21.28it/s]                        \n"
     ]
    },
    {
     "name": "stdout",
     "output_type": "stream",
     "text": [
      "Val Loss: 0.8353 | Val Acc: 0.7093\n",
      "Epoch [51/100]\n",
      "Epoch 50:\n"
     ]
    },
    {
     "name": "stderr",
     "output_type": "stream",
     "text": [
      "Training Model:  33%|███▎      | 27/81 [00:27<00:55,  1.04s/it]\n"
     ]
    },
    {
     "name": "stdout",
     "output_type": "stream",
     "text": [
      "Train Loss: 36.3825 | Train Acc: 0.8954\n",
      "Train Loss: 37.0382 Acc: 8066.4444\n"
     ]
    },
    {
     "name": "stderr",
     "output_type": "stream",
     "text": [
      "Validation: 29it [00:01, 21.74it/s]                        \n"
     ]
    },
    {
     "name": "stdout",
     "output_type": "stream",
     "text": [
      "Val Loss: 0.8246 | Val Acc: 0.7266\n",
      "Epoch [52/100]\n",
      "Epoch 51:\n"
     ]
    },
    {
     "name": "stderr",
     "output_type": "stream",
     "text": [
      "Training Model:  33%|███▎      | 27/81 [00:27<00:55,  1.03s/it]\n"
     ]
    },
    {
     "name": "stdout",
     "output_type": "stream",
     "text": [
      "Train Loss: 37.0382 | Train Acc: 0.9535\n",
      "Train Loss: 37.6359 Acc: 8250.3704\n"
     ]
    },
    {
     "name": "stderr",
     "output_type": "stream",
     "text": [
      "Validation: 29it [00:01, 21.64it/s]                        \n"
     ]
    },
    {
     "name": "stdout",
     "output_type": "stream",
     "text": [
      "Val Loss: 0.8315 | Val Acc: 0.7093\n",
      "Epoch [53/100]\n",
      "Epoch 52:\n"
     ]
    },
    {
     "name": "stderr",
     "output_type": "stream",
     "text": [
      "Training Model:  33%|███▎      | 27/81 [00:27<00:55,  1.04s/it]\n"
     ]
    },
    {
     "name": "stdout",
     "output_type": "stream",
     "text": [
      "Train Loss: 37.6359 | Train Acc: 0.8873\n",
      "Train Loss: 38.2983 Acc: 8421.5185\n"
     ]
    },
    {
     "name": "stderr",
     "output_type": "stream",
     "text": [
      "Validation: 29it [00:01, 18.55it/s]\n"
     ]
    },
    {
     "name": "stdout",
     "output_type": "stream",
     "text": [
      "Val Loss: 0.8563 | Val Acc: 0.6851\n",
      "Epoch [54/100]\n",
      "Epoch 53:\n"
     ]
    },
    {
     "name": "stderr",
     "output_type": "stream",
     "text": [
      "Training Model:  33%|███▎      | 27/81 [00:28<00:56,  1.05s/it]\n"
     ]
    },
    {
     "name": "stdout",
     "output_type": "stream",
     "text": [
      "Train Loss: 38.2983 | Train Acc: 0.9531\n",
      "Train Loss: 38.8967 Acc: 8605.3704\n"
     ]
    },
    {
     "name": "stderr",
     "output_type": "stream",
     "text": [
      "Validation: 29it [00:01, 21.20it/s]                        \n"
     ]
    },
    {
     "name": "stdout",
     "output_type": "stream",
     "text": [
      "Val Loss: 0.8200 | Val Acc: 0.7163\n",
      "Epoch [55/100]\n",
      "Epoch 54:\n"
     ]
    },
    {
     "name": "stderr",
     "output_type": "stream",
     "text": [
      "Training Model:  33%|███▎      | 27/81 [00:27<00:55,  1.03s/it]\n"
     ]
    },
    {
     "name": "stdout",
     "output_type": "stream",
     "text": [
      "Train Loss: 38.8967 | Train Acc: 0.9153\n",
      "Train Loss: 39.5299 Acc: 8781.9259\n"
     ]
    },
    {
     "name": "stderr",
     "output_type": "stream",
     "text": [
      "Validation: 29it [00:01, 21.60it/s]                        \n"
     ]
    },
    {
     "name": "stdout",
     "output_type": "stream",
     "text": [
      "Val Loss: 0.8480 | Val Acc: 0.6817\n",
      "Epoch [56/100]\n",
      "Epoch 55:\n"
     ]
    },
    {
     "name": "stderr",
     "output_type": "stream",
     "text": [
      "Training Model:  33%|███▎      | 27/81 [00:27<00:55,  1.04s/it]\n"
     ]
    },
    {
     "name": "stdout",
     "output_type": "stream",
     "text": [
      "Train Loss: 39.5299 | Train Acc: 0.9618\n",
      "Train Loss: 40.1220 Acc: 8967.4444\n"
     ]
    },
    {
     "name": "stderr",
     "output_type": "stream",
     "text": [
      "Validation: 29it [00:01, 20.78it/s]                        \n"
     ]
    },
    {
     "name": "stdout",
     "output_type": "stream",
     "text": [
      "Val Loss: 0.8109 | Val Acc: 0.7405\n",
      "Epoch [57/100]\n",
      "Epoch 56:\n"
     ]
    },
    {
     "name": "stderr",
     "output_type": "stream",
     "text": [
      "Training Model:  33%|███▎      | 27/81 [00:28<00:56,  1.05s/it]\n"
     ]
    },
    {
     "name": "stdout",
     "output_type": "stream",
     "text": [
      "Train Loss: 40.1220 | Train Acc: 0.9293\n",
      "Train Loss: 40.7443 Acc: 9146.7037\n"
     ]
    },
    {
     "name": "stderr",
     "output_type": "stream",
     "text": [
      "Validation: 29it [00:01, 18.32it/s]\n"
     ]
    },
    {
     "name": "stdout",
     "output_type": "stream",
     "text": [
      "Val Loss: 0.8432 | Val Acc: 0.6920\n",
      "Epoch [58/100]\n",
      "Epoch 57:\n"
     ]
    },
    {
     "name": "stderr",
     "output_type": "stream",
     "text": [
      "Training Model:  33%|███▎      | 27/81 [00:28<00:56,  1.05s/it]\n"
     ]
    },
    {
     "name": "stdout",
     "output_type": "stream",
     "text": [
      "Train Loss: 40.7443 | Train Acc: 0.9543\n",
      "Train Loss: 41.3423 Acc: 9330.7778\n"
     ]
    },
    {
     "name": "stderr",
     "output_type": "stream",
     "text": [
      "Validation: 29it [00:01, 21.51it/s]                        \n"
     ]
    },
    {
     "name": "stdout",
     "output_type": "stream",
     "text": [
      "Val Loss: 0.8187 | Val Acc: 0.7232\n",
      "Epoch [59/100]\n",
      "Epoch 58:\n"
     ]
    },
    {
     "name": "stderr",
     "output_type": "stream",
     "text": [
      "Training Model:  33%|███▎      | 27/81 [00:28<00:56,  1.05s/it]\n"
     ]
    },
    {
     "name": "stdout",
     "output_type": "stream",
     "text": [
      "Train Loss: 41.3423 | Train Acc: 0.9743\n",
      "Train Loss: 41.9202 Acc: 9518.7037\n"
     ]
    },
    {
     "name": "stderr",
     "output_type": "stream",
     "text": [
      "Validation: 29it [00:01, 20.97it/s]                        \n"
     ]
    },
    {
     "name": "stdout",
     "output_type": "stream",
     "text": [
      "Val Loss: 0.7954 | Val Acc: 0.7474\n",
      "Epoch [60/100]\n",
      "Epoch 59:\n"
     ]
    },
    {
     "name": "stderr",
     "output_type": "stream",
     "text": [
      "Training Model:  33%|███▎      | 27/81 [00:28<00:56,  1.04s/it]\n"
     ]
    },
    {
     "name": "stdout",
     "output_type": "stream",
     "text": [
      "Train Loss: 41.9202 | Train Acc: 0.9789\n",
      "Train Loss: 42.4934 Acc: 9707.5185\n"
     ]
    },
    {
     "name": "stderr",
     "output_type": "stream",
     "text": [
      "Validation: 29it [00:01, 20.40it/s]                        \n"
     ]
    },
    {
     "name": "stdout",
     "output_type": "stream",
     "text": [
      "Val Loss: 0.7923 | Val Acc: 0.7474\n",
      "Epoch [61/100]\n",
      "Epoch 60:\n"
     ]
    },
    {
     "name": "stderr",
     "output_type": "stream",
     "text": [
      "Training Model:  33%|███▎      | 27/81 [00:28<00:56,  1.05s/it]\n"
     ]
    },
    {
     "name": "stdout",
     "output_type": "stream",
     "text": [
      "Train Loss: 42.4934 | Train Acc: 0.9796\n",
      "Train Loss: 43.0656 Acc: 9896.4815\n"
     ]
    },
    {
     "name": "stderr",
     "output_type": "stream",
     "text": [
      "Validation: 29it [00:01, 19.70it/s]                        \n"
     ]
    },
    {
     "name": "stdout",
     "output_type": "stream",
     "text": [
      "Val Loss: 0.8082 | Val Acc: 0.7370\n",
      "Epoch [62/100]\n",
      "Epoch 61:\n"
     ]
    },
    {
     "name": "stderr",
     "output_type": "stream",
     "text": [
      "Training Model:  33%|███▎      | 27/81 [00:27<00:55,  1.03s/it]\n"
     ]
    },
    {
     "name": "stdout",
     "output_type": "stream",
     "text": [
      "Train Loss: 43.0656 | Train Acc: 0.9795\n",
      "Train Loss: 43.6380 Acc: 10085.4074\n"
     ]
    },
    {
     "name": "stderr",
     "output_type": "stream",
     "text": [
      "Validation: 29it [00:01, 21.19it/s]\n"
     ]
    },
    {
     "name": "stdout",
     "output_type": "stream",
     "text": [
      "Val Loss: 0.8009 | Val Acc: 0.7439\n",
      "Epoch [63/100]\n",
      "Epoch 62:\n"
     ]
    },
    {
     "name": "stderr",
     "output_type": "stream",
     "text": [
      "Training Model:  33%|███▎      | 27/81 [00:27<00:55,  1.04s/it]\n"
     ]
    },
    {
     "name": "stdout",
     "output_type": "stream",
     "text": [
      "Train Loss: 43.6380 | Train Acc: 0.9553\n",
      "Train Loss: 44.2338 Acc: 10269.6667\n"
     ]
    },
    {
     "name": "stderr",
     "output_type": "stream",
     "text": [
      "Validation: 29it [00:01, 21.24it/s]                        \n"
     ]
    },
    {
     "name": "stdout",
     "output_type": "stream",
     "text": [
      "Val Loss: 0.8249 | Val Acc: 0.7163\n",
      "Epoch [64/100]\n",
      "Epoch 63:\n"
     ]
    },
    {
     "name": "stderr",
     "output_type": "stream",
     "text": [
      "Training Model:  33%|███▎      | 27/81 [00:27<00:55,  1.03s/it]\n"
     ]
    },
    {
     "name": "stdout",
     "output_type": "stream",
     "text": [
      "Train Loss: 44.2338 | Train Acc: 0.9743\n",
      "Train Loss: 44.8128 Acc: 10457.5926\n"
     ]
    },
    {
     "name": "stderr",
     "output_type": "stream",
     "text": [
      "Validation: 29it [00:01, 20.94it/s]                        \n"
     ]
    },
    {
     "name": "stdout",
     "output_type": "stream",
     "text": [
      "Val Loss: 0.8080 | Val Acc: 0.7439\n",
      "Epoch [65/100]\n",
      "Epoch 64:\n"
     ]
    },
    {
     "name": "stderr",
     "output_type": "stream",
     "text": [
      "Training Model:  33%|███▎      | 27/81 [00:28<00:57,  1.06s/it]\n"
     ]
    },
    {
     "name": "stdout",
     "output_type": "stream",
     "text": [
      "Train Loss: 44.8128 | Train Acc: 0.9770\n",
      "Train Loss: 45.3876 Acc: 10646.0370\n"
     ]
    },
    {
     "name": "stderr",
     "output_type": "stream",
     "text": [
      "Validation: 29it [00:01, 19.89it/s]\n"
     ]
    },
    {
     "name": "stdout",
     "output_type": "stream",
     "text": [
      "Val Loss: 0.8080 | Val Acc: 0.7405\n",
      "Epoch [66/100]\n",
      "Epoch 65:\n"
     ]
    },
    {
     "name": "stderr",
     "output_type": "stream",
     "text": [
      "Training Model:  33%|███▎      | 27/81 [00:28<00:56,  1.04s/it]\n"
     ]
    },
    {
     "name": "stdout",
     "output_type": "stream",
     "text": [
      "Train Loss: 45.3876 | Train Acc: 0.9226\n",
      "Train Loss: 46.0142 Acc: 10824.0000\n"
     ]
    },
    {
     "name": "stderr",
     "output_type": "stream",
     "text": [
      "Validation: 29it [00:01, 21.51it/s]                        \n"
     ]
    },
    {
     "name": "stdout",
     "output_type": "stream",
     "text": [
      "Val Loss: 0.8196 | Val Acc: 0.7266\n",
      "Epoch [67/100]\n",
      "Epoch 66:\n"
     ]
    },
    {
     "name": "stderr",
     "output_type": "stream",
     "text": [
      "Training Model:  33%|███▎      | 27/81 [00:27<00:55,  1.03s/it]\n"
     ]
    },
    {
     "name": "stdout",
     "output_type": "stream",
     "text": [
      "Train Loss: 46.0142 | Train Acc: 0.9635\n",
      "Train Loss: 46.6030 Acc: 11009.8519\n"
     ]
    },
    {
     "name": "stderr",
     "output_type": "stream",
     "text": [
      "Validation: 29it [00:01, 21.41it/s]                        \n"
     ]
    },
    {
     "name": "stdout",
     "output_type": "stream",
     "text": [
      "Val Loss: 0.8233 | Val Acc: 0.7232\n",
      "Epoch [68/100]\n",
      "Epoch 67:\n"
     ]
    },
    {
     "name": "stderr",
     "output_type": "stream",
     "text": [
      "Training Model:  33%|███▎      | 27/81 [00:27<00:55,  1.03s/it]\n"
     ]
    },
    {
     "name": "stdout",
     "output_type": "stream",
     "text": [
      "Train Loss: 46.6030 | Train Acc: 0.9462\n",
      "Train Loss: 47.2089 Acc: 11192.3704\n"
     ]
    },
    {
     "name": "stderr",
     "output_type": "stream",
     "text": [
      "Validation: 29it [00:01, 20.14it/s]                        \n"
     ]
    },
    {
     "name": "stdout",
     "output_type": "stream",
     "text": [
      "Val Loss: 0.8273 | Val Acc: 0.7128\n",
      "Epoch [69/100]\n",
      "Epoch 68:\n"
     ]
    },
    {
     "name": "stderr",
     "output_type": "stream",
     "text": [
      "Training Model:  33%|███▎      | 27/81 [00:27<00:55,  1.03s/it]\n"
     ]
    },
    {
     "name": "stdout",
     "output_type": "stream",
     "text": [
      "Train Loss: 47.2089 | Train Acc: 0.9748\n",
      "Train Loss: 47.7861 Acc: 11380.4074\n"
     ]
    },
    {
     "name": "stderr",
     "output_type": "stream",
     "text": [
      "Validation: 29it [00:01, 20.20it/s]                        \n"
     ]
    },
    {
     "name": "stdout",
     "output_type": "stream",
     "text": [
      "Val Loss: 0.8100 | Val Acc: 0.7370\n",
      "Epoch [70/100]\n",
      "Epoch 69:\n"
     ]
    },
    {
     "name": "stderr",
     "output_type": "stream",
     "text": [
      "Training Model:  33%|███▎      | 27/81 [00:28<00:56,  1.04s/it]\n"
     ]
    },
    {
     "name": "stdout",
     "output_type": "stream",
     "text": [
      "Train Loss: 47.7861 | Train Acc: 0.9810\n",
      "Train Loss: 48.3566 Acc: 11569.6296\n"
     ]
    },
    {
     "name": "stderr",
     "output_type": "stream",
     "text": [
      "Validation: 29it [00:01, 21.32it/s]                        \n"
     ]
    },
    {
     "name": "stdout",
     "output_type": "stream",
     "text": [
      "Val Loss: 0.8161 | Val Acc: 0.7266\n",
      "Epoch [71/100]\n",
      "Epoch 70:\n"
     ]
    },
    {
     "name": "stderr",
     "output_type": "stream",
     "text": [
      "Training Model:  33%|███▎      | 27/81 [00:27<00:55,  1.04s/it]\n"
     ]
    },
    {
     "name": "stdout",
     "output_type": "stream",
     "text": [
      "Train Loss: 48.3566 | Train Acc: 0.9422\n",
      "Train Loss: 48.9638 Acc: 11751.3704\n"
     ]
    },
    {
     "name": "stderr",
     "output_type": "stream",
     "text": [
      "Validation: 29it [00:01, 21.57it/s]                        \n"
     ]
    },
    {
     "name": "stdout",
     "output_type": "stream",
     "text": [
      "Val Loss: 0.8360 | Val Acc: 0.7266\n",
      "Epoch [72/100]\n",
      "Epoch 71:\n"
     ]
    },
    {
     "name": "stderr",
     "output_type": "stream",
     "text": [
      "Training Model:  33%|███▎      | 27/81 [00:28<00:56,  1.04s/it]\n"
     ]
    },
    {
     "name": "stdout",
     "output_type": "stream",
     "text": [
      "Train Loss: 48.9638 | Train Acc: 0.9745\n",
      "Train Loss: 49.5418 Acc: 11939.3333\n"
     ]
    },
    {
     "name": "stderr",
     "output_type": "stream",
     "text": [
      "Validation: 29it [00:01, 19.59it/s]                        \n"
     ]
    },
    {
     "name": "stdout",
     "output_type": "stream",
     "text": [
      "Val Loss: 0.8240 | Val Acc: 0.7163\n",
      "Epoch [73/100]\n",
      "Epoch 72:\n"
     ]
    },
    {
     "name": "stderr",
     "output_type": "stream",
     "text": [
      "Training Model:  33%|███▎      | 27/81 [00:28<00:57,  1.06s/it]\n"
     ]
    },
    {
     "name": "stdout",
     "output_type": "stream",
     "text": [
      "Train Loss: 49.5418 | Train Acc: 0.9405\n",
      "Train Loss: 50.1525 Acc: 12120.7407\n"
     ]
    },
    {
     "name": "stderr",
     "output_type": "stream",
     "text": [
      "Validation: 29it [00:01, 21.10it/s]                        \n"
     ]
    },
    {
     "name": "stdout",
     "output_type": "stream",
     "text": [
      "Val Loss: 0.8072 | Val Acc: 0.7405\n",
      "Epoch [74/100]\n",
      "Epoch 73:\n"
     ]
    },
    {
     "name": "stderr",
     "output_type": "stream",
     "text": [
      "Training Model:  33%|███▎      | 27/81 [00:28<00:56,  1.05s/it]\n"
     ]
    },
    {
     "name": "stdout",
     "output_type": "stream",
     "text": [
      "Train Loss: 50.1525 | Train Acc: 0.9729\n",
      "Train Loss: 50.7313 Acc: 12308.4074\n"
     ]
    },
    {
     "name": "stderr",
     "output_type": "stream",
     "text": [
      "Validation: 29it [00:01, 21.06it/s]                        \n"
     ]
    },
    {
     "name": "stdout",
     "output_type": "stream",
     "text": [
      "Val Loss: 0.7983 | Val Acc: 0.7405\n",
      "Epoch [75/100]\n",
      "Epoch 74:\n"
     ]
    },
    {
     "name": "stderr",
     "output_type": "stream",
     "text": [
      "Training Model:  33%|███▎      | 27/81 [00:28<00:56,  1.04s/it]\n"
     ]
    },
    {
     "name": "stdout",
     "output_type": "stream",
     "text": [
      "Train Loss: 50.7313 | Train Acc: 0.9821\n",
      "Train Loss: 51.3014 Acc: 12497.8519\n"
     ]
    },
    {
     "name": "stderr",
     "output_type": "stream",
     "text": [
      "Validation: 29it [00:01, 20.34it/s]\n"
     ]
    },
    {
     "name": "stdout",
     "output_type": "stream",
     "text": [
      "Val Loss: 0.7823 | Val Acc: 0.7578\n",
      "accuracy improved, saving model\n",
      "Epoch [76/100]\n",
      "Epoch 75:\n"
     ]
    },
    {
     "name": "stderr",
     "output_type": "stream",
     "text": [
      "Training Model:  33%|███▎      | 27/81 [00:28<00:56,  1.05s/it]\n"
     ]
    },
    {
     "name": "stdout",
     "output_type": "stream",
     "text": [
      "Train Loss: 51.3014 | Train Acc: 0.9850\n",
      "Train Loss: 51.8685 Acc: 12687.8519\n"
     ]
    },
    {
     "name": "stderr",
     "output_type": "stream",
     "text": [
      "Validation: 29it [00:01, 18.57it/s]\n"
     ]
    },
    {
     "name": "stdout",
     "output_type": "stream",
     "text": [
      "Val Loss: 0.7760 | Val Acc: 0.7682\n",
      "accuracy improved, saving model\n",
      "Epoch [77/100]\n",
      "Epoch 76:\n"
     ]
    },
    {
     "name": "stderr",
     "output_type": "stream",
     "text": [
      "Training Model:  33%|███▎      | 27/81 [00:28<00:56,  1.04s/it]\n"
     ]
    },
    {
     "name": "stdout",
     "output_type": "stream",
     "text": [
      "Train Loss: 51.8685 | Train Acc: 0.9850\n",
      "Train Loss: 52.4352 Acc: 12877.8519\n"
     ]
    },
    {
     "name": "stderr",
     "output_type": "stream",
     "text": [
      "Validation: 29it [00:01, 21.59it/s]\n"
     ]
    },
    {
     "name": "stdout",
     "output_type": "stream",
     "text": [
      "Val Loss: 0.7877 | Val Acc: 0.7647\n",
      "Epoch [78/100]\n",
      "Epoch 77:\n"
     ]
    },
    {
     "name": "stderr",
     "output_type": "stream",
     "text": [
      "Training Model:  33%|███▎      | 27/81 [00:28<00:56,  1.04s/it]\n"
     ]
    },
    {
     "name": "stdout",
     "output_type": "stream",
     "text": [
      "Train Loss: 52.4352 | Train Acc: 0.9656\n",
      "Train Loss: 53.0220 Acc: 13064.1111\n"
     ]
    },
    {
     "name": "stderr",
     "output_type": "stream",
     "text": [
      "Validation: 29it [00:01, 21.11it/s]                        \n"
     ]
    },
    {
     "name": "stdout",
     "output_type": "stream",
     "text": [
      "Val Loss: 0.7962 | Val Acc: 0.7439\n",
      "Epoch [79/100]\n",
      "Epoch 78:\n"
     ]
    },
    {
     "name": "stderr",
     "output_type": "stream",
     "text": [
      "Training Model:  33%|███▎      | 27/81 [00:28<00:56,  1.05s/it]\n"
     ]
    },
    {
     "name": "stdout",
     "output_type": "stream",
     "text": [
      "Train Loss: 53.0220 | Train Acc: 0.9810\n",
      "Train Loss: 53.5929 Acc: 13253.3333\n"
     ]
    },
    {
     "name": "stderr",
     "output_type": "stream",
     "text": [
      "Validation: 29it [00:01, 21.27it/s]                        \n"
     ]
    },
    {
     "name": "stdout",
     "output_type": "stream",
     "text": [
      "Val Loss: 0.8171 | Val Acc: 0.7197\n",
      "Epoch [80/100]\n",
      "Epoch 79:\n"
     ]
    },
    {
     "name": "stderr",
     "output_type": "stream",
     "text": [
      "Training Model:  33%|███▎      | 27/81 [00:28<00:56,  1.05s/it]\n"
     ]
    },
    {
     "name": "stdout",
     "output_type": "stream",
     "text": [
      "Train Loss: 53.5929 | Train Acc: 0.9011\n",
      "Train Loss: 54.2411 Acc: 13427.1481\n"
     ]
    },
    {
     "name": "stderr",
     "output_type": "stream",
     "text": [
      "Validation: 29it [00:01, 17.95it/s]\n"
     ]
    },
    {
     "name": "stdout",
     "output_type": "stream",
     "text": [
      "Val Loss: 0.8197 | Val Acc: 0.7232\n",
      "Epoch [81/100]\n",
      "Epoch 80:\n"
     ]
    },
    {
     "name": "stderr",
     "output_type": "stream",
     "text": [
      "Training Model:  33%|███▎      | 27/81 [00:28<00:56,  1.05s/it]\n"
     ]
    },
    {
     "name": "stdout",
     "output_type": "stream",
     "text": [
      "Train Loss: 54.2411 | Train Acc: 0.9516\n",
      "Train Loss: 54.8409 Acc: 13610.7037\n"
     ]
    },
    {
     "name": "stderr",
     "output_type": "stream",
     "text": [
      "Validation: 29it [00:01, 21.35it/s]                        \n"
     ]
    },
    {
     "name": "stdout",
     "output_type": "stream",
     "text": [
      "Val Loss: 0.8143 | Val Acc: 0.7197\n",
      "Epoch [82/100]\n",
      "Epoch 81:\n"
     ]
    },
    {
     "name": "stderr",
     "output_type": "stream",
     "text": [
      "Training Model:  33%|███▎      | 27/81 [00:28<00:57,  1.06s/it]\n"
     ]
    },
    {
     "name": "stdout",
     "output_type": "stream",
     "text": [
      "Train Loss: 54.8409 | Train Acc: 0.9681\n",
      "Train Loss: 55.4240 Acc: 13797.4444\n"
     ]
    },
    {
     "name": "stderr",
     "output_type": "stream",
     "text": [
      "Validation: 29it [00:01, 21.45it/s]\n"
     ]
    },
    {
     "name": "stdout",
     "output_type": "stream",
     "text": [
      "Val Loss: 0.7952 | Val Acc: 0.7474\n",
      "Epoch [83/100]\n",
      "Epoch 82:\n"
     ]
    },
    {
     "name": "stderr",
     "output_type": "stream",
     "text": [
      "Training Model:  33%|███▎      | 27/81 [00:28<00:56,  1.04s/it]\n"
     ]
    },
    {
     "name": "stdout",
     "output_type": "stream",
     "text": [
      "Train Loss: 55.4240 | Train Acc: 0.9750\n",
      "Train Loss: 56.0008 Acc: 13985.5185\n"
     ]
    },
    {
     "name": "stderr",
     "output_type": "stream",
     "text": [
      "Validation: 29it [00:01, 20.75it/s]                        \n"
     ]
    },
    {
     "name": "stdout",
     "output_type": "stream",
     "text": [
      "Val Loss: 0.8236 | Val Acc: 0.7163\n",
      "Epoch [84/100]\n",
      "Epoch 83:\n"
     ]
    },
    {
     "name": "stderr",
     "output_type": "stream",
     "text": [
      "Training Model:  33%|███▎      | 27/81 [00:28<00:56,  1.05s/it]\n"
     ]
    },
    {
     "name": "stdout",
     "output_type": "stream",
     "text": [
      "Train Loss: 56.0008 | Train Acc: 0.9353\n",
      "Train Loss: 56.6170 Acc: 14165.9259\n"
     ]
    },
    {
     "name": "stderr",
     "output_type": "stream",
     "text": [
      "Validation: 29it [00:01, 19.20it/s]                        \n"
     ]
    },
    {
     "name": "stdout",
     "output_type": "stream",
     "text": [
      "Val Loss: 0.8495 | Val Acc: 0.6886\n",
      "Epoch [85/100]\n",
      "Epoch 84:\n"
     ]
    },
    {
     "name": "stderr",
     "output_type": "stream",
     "text": [
      "Training Model:  33%|███▎      | 27/81 [00:27<00:55,  1.03s/it]\n"
     ]
    },
    {
     "name": "stdout",
     "output_type": "stream",
     "text": [
      "Train Loss: 56.6170 | Train Acc: 0.9702\n",
      "Train Loss: 57.1980 Acc: 14353.0741\n"
     ]
    },
    {
     "name": "stderr",
     "output_type": "stream",
     "text": [
      "Validation: 29it [00:01, 20.35it/s]                        \n"
     ]
    },
    {
     "name": "stdout",
     "output_type": "stream",
     "text": [
      "Val Loss: 0.8062 | Val Acc: 0.7405\n",
      "Epoch [86/100]\n",
      "Epoch 85:\n"
     ]
    },
    {
     "name": "stderr",
     "output_type": "stream",
     "text": [
      "Training Model:  33%|███▎      | 27/81 [00:29<00:58,  1.08s/it]\n"
     ]
    },
    {
     "name": "stdout",
     "output_type": "stream",
     "text": [
      "Train Loss: 57.1980 | Train Acc: 0.9820\n",
      "Train Loss: 57.7681 Acc: 14542.4815\n"
     ]
    },
    {
     "name": "stderr",
     "output_type": "stream",
     "text": [
      "Validation: 29it [00:01, 20.99it/s]                        \n"
     ]
    },
    {
     "name": "stdout",
     "output_type": "stream",
     "text": [
      "Val Loss: 0.7878 | Val Acc: 0.7543\n",
      "Epoch [87/100]\n",
      "Epoch 86:\n"
     ]
    },
    {
     "name": "stderr",
     "output_type": "stream",
     "text": [
      "Training Model:  33%|███▎      | 27/81 [00:28<00:56,  1.05s/it]\n"
     ]
    },
    {
     "name": "stdout",
     "output_type": "stream",
     "text": [
      "Train Loss: 57.7681 | Train Acc: 0.9624\n",
      "Train Loss: 58.3574 Acc: 14728.1111\n"
     ]
    },
    {
     "name": "stderr",
     "output_type": "stream",
     "text": [
      "Validation: 29it [00:01, 18.76it/s]\n"
     ]
    },
    {
     "name": "stdout",
     "output_type": "stream",
     "text": [
      "Val Loss: 0.8083 | Val Acc: 0.7370\n",
      "Epoch [88/100]\n",
      "Epoch 87:\n"
     ]
    },
    {
     "name": "stderr",
     "output_type": "stream",
     "text": [
      "Training Model:  33%|███▎      | 27/81 [00:28<00:56,  1.05s/it]\n"
     ]
    },
    {
     "name": "stdout",
     "output_type": "stream",
     "text": [
      "Train Loss: 58.3574 | Train Acc: 0.9787\n",
      "Train Loss: 58.9300 Acc: 14916.8889\n"
     ]
    },
    {
     "name": "stderr",
     "output_type": "stream",
     "text": [
      "Validation: 29it [00:01, 21.14it/s]                        \n"
     ]
    },
    {
     "name": "stdout",
     "output_type": "stream",
     "text": [
      "Val Loss: 0.8024 | Val Acc: 0.7370\n",
      "Epoch [89/100]\n",
      "Epoch 88:\n"
     ]
    },
    {
     "name": "stderr",
     "output_type": "stream",
     "text": [
      "Training Model:  33%|███▎      | 27/81 [00:28<00:56,  1.05s/it]\n"
     ]
    },
    {
     "name": "stdout",
     "output_type": "stream",
     "text": [
      "Train Loss: 58.9300 | Train Acc: 0.9841\n",
      "Train Loss: 59.4982 Acc: 15106.7037\n"
     ]
    },
    {
     "name": "stderr",
     "output_type": "stream",
     "text": [
      "Validation: 29it [00:01, 21.03it/s]                        \n"
     ]
    },
    {
     "name": "stdout",
     "output_type": "stream",
     "text": [
      "Val Loss: 0.7764 | Val Acc: 0.7716\n",
      "accuracy improved, saving model\n",
      "Epoch [90/100]\n",
      "Epoch 89:\n"
     ]
    },
    {
     "name": "stderr",
     "output_type": "stream",
     "text": [
      "Training Model:  33%|███▎      | 27/81 [00:28<00:56,  1.04s/it]\n"
     ]
    },
    {
     "name": "stdout",
     "output_type": "stream",
     "text": [
      "Train Loss: 59.4982 | Train Acc: 0.9783\n",
      "Train Loss: 60.0712 Acc: 15295.4074\n"
     ]
    },
    {
     "name": "stderr",
     "output_type": "stream",
     "text": [
      "Validation: 29it [00:01, 20.76it/s]\n"
     ]
    },
    {
     "name": "stdout",
     "output_type": "stream",
     "text": [
      "Val Loss: 0.7833 | Val Acc: 0.7682\n",
      "Epoch [91/100]\n",
      "Epoch 90:\n"
     ]
    },
    {
     "name": "stderr",
     "output_type": "stream",
     "text": [
      "Training Model:  33%|███▎      | 27/81 [00:28<00:56,  1.04s/it]\n"
     ]
    },
    {
     "name": "stdout",
     "output_type": "stream",
     "text": [
      "Train Loss: 60.0712 | Train Acc: 0.9852\n",
      "Train Loss: 60.6378 Acc: 15485.4444\n"
     ]
    },
    {
     "name": "stderr",
     "output_type": "stream",
     "text": [
      "Validation: 29it [00:01, 17.80it/s]                        \n"
     ]
    },
    {
     "name": "stdout",
     "output_type": "stream",
     "text": [
      "Val Loss: 0.7848 | Val Acc: 0.7509\n",
      "Epoch [92/100]\n",
      "Epoch 91:\n"
     ]
    },
    {
     "name": "stderr",
     "output_type": "stream",
     "text": [
      "Training Model:  33%|███▎      | 27/81 [00:28<00:56,  1.04s/it]\n"
     ]
    },
    {
     "name": "stdout",
     "output_type": "stream",
     "text": [
      "Train Loss: 60.6378 | Train Acc: 0.9316\n",
      "Train Loss: 61.2571 Acc: 15665.1481\n"
     ]
    },
    {
     "name": "stderr",
     "output_type": "stream",
     "text": [
      "Validation: 29it [00:01, 21.25it/s]                        \n"
     ]
    },
    {
     "name": "stdout",
     "output_type": "stream",
     "text": [
      "Val Loss: 0.8345 | Val Acc: 0.7093\n",
      "Epoch [93/100]\n",
      "Epoch 92:\n"
     ]
    },
    {
     "name": "stderr",
     "output_type": "stream",
     "text": [
      "Training Model:  33%|███▎      | 27/81 [00:28<00:56,  1.04s/it]\n"
     ]
    },
    {
     "name": "stdout",
     "output_type": "stream",
     "text": [
      "Train Loss: 61.2571 | Train Acc: 0.9741\n",
      "Train Loss: 61.8351 Acc: 15853.0370\n"
     ]
    },
    {
     "name": "stderr",
     "output_type": "stream",
     "text": [
      "Validation: 29it [00:01, 20.97it/s]                        \n"
     ]
    },
    {
     "name": "stdout",
     "output_type": "stream",
     "text": [
      "Val Loss: 0.7888 | Val Acc: 0.7578\n",
      "Epoch [94/100]\n",
      "Epoch 93:\n"
     ]
    },
    {
     "name": "stderr",
     "output_type": "stream",
     "text": [
      "Training Model:  33%|███▎      | 27/81 [00:28<00:56,  1.04s/it]\n"
     ]
    },
    {
     "name": "stdout",
     "output_type": "stream",
     "text": [
      "Train Loss: 61.8351 | Train Acc: 0.9843\n",
      "Train Loss: 62.4033 Acc: 16042.8889\n"
     ]
    },
    {
     "name": "stderr",
     "output_type": "stream",
     "text": [
      "Validation: 29it [00:01, 21.59it/s]                        \n"
     ]
    },
    {
     "name": "stdout",
     "output_type": "stream",
     "text": [
      "Val Loss: 0.7699 | Val Acc: 0.7751\n",
      "accuracy improved, saving model\n",
      "Epoch [95/100]\n",
      "Epoch 94:\n"
     ]
    },
    {
     "name": "stderr",
     "output_type": "stream",
     "text": [
      "Training Model:  33%|███▎      | 27/81 [00:28<00:56,  1.05s/it]\n"
     ]
    },
    {
     "name": "stdout",
     "output_type": "stream",
     "text": [
      "Train Loss: 62.4033 | Train Acc: 0.9877\n",
      "Train Loss: 62.9679 Acc: 16233.4074\n"
     ]
    },
    {
     "name": "stderr",
     "output_type": "stream",
     "text": [
      "Validation: 29it [00:01, 18.34it/s]\n"
     ]
    },
    {
     "name": "stdout",
     "output_type": "stream",
     "text": [
      "Val Loss: 0.7741 | Val Acc: 0.7682\n",
      "Epoch [96/100]\n",
      "Epoch 95:\n"
     ]
    },
    {
     "name": "stderr",
     "output_type": "stream",
     "text": [
      "Training Model:  33%|███▎      | 27/81 [00:28<00:57,  1.06s/it]\n"
     ]
    },
    {
     "name": "stdout",
     "output_type": "stream",
     "text": [
      "Train Loss: 62.9679 | Train Acc: 0.9875\n",
      "Train Loss: 63.5317 Acc: 16423.8889\n"
     ]
    },
    {
     "name": "stderr",
     "output_type": "stream",
     "text": [
      "Validation: 29it [00:01, 19.35it/s]                        \n"
     ]
    },
    {
     "name": "stdout",
     "output_type": "stream",
     "text": [
      "Val Loss: 0.8095 | Val Acc: 0.7232\n",
      "Epoch [97/100]\n",
      "Epoch 96:\n"
     ]
    },
    {
     "name": "stderr",
     "output_type": "stream",
     "text": [
      "Training Model:  33%|███▎      | 27/81 [00:28<00:57,  1.07s/it]\n"
     ]
    },
    {
     "name": "stdout",
     "output_type": "stream",
     "text": [
      "Train Loss: 63.5317 | Train Acc: 0.9641\n",
      "Train Loss: 64.1188 Acc: 16609.8519\n"
     ]
    },
    {
     "name": "stderr",
     "output_type": "stream",
     "text": [
      "Validation: 29it [00:01, 21.17it/s]                        \n"
     ]
    },
    {
     "name": "stdout",
     "output_type": "stream",
     "text": [
      "Val Loss: 0.8710 | Val Acc: 0.6782\n",
      "Epoch [98/100]\n",
      "Epoch 97:\n"
     ]
    },
    {
     "name": "stderr",
     "output_type": "stream",
     "text": [
      "Training Model:  33%|███▎      | 27/81 [00:28<00:56,  1.05s/it]\n"
     ]
    },
    {
     "name": "stdout",
     "output_type": "stream",
     "text": [
      "Train Loss: 64.1188 | Train Acc: 0.7969\n",
      "Train Loss: 64.8683 Acc: 16763.5556\n"
     ]
    },
    {
     "name": "stderr",
     "output_type": "stream",
     "text": [
      "Validation: 29it [00:01, 19.22it/s]                        \n"
     ]
    },
    {
     "name": "stdout",
     "output_type": "stream",
     "text": [
      "Val Loss: 0.9041 | Val Acc: 0.6367\n",
      "Epoch [99/100]\n",
      "Epoch 98:\n"
     ]
    },
    {
     "name": "stderr",
     "output_type": "stream",
     "text": [
      "Training Model:  33%|███▎      | 27/81 [00:28<00:57,  1.07s/it]\n"
     ]
    },
    {
     "name": "stdout",
     "output_type": "stream",
     "text": [
      "Train Loss: 64.8683 | Train Acc: 0.9240\n",
      "Train Loss: 65.4949 Acc: 16941.7778\n"
     ]
    },
    {
     "name": "stderr",
     "output_type": "stream",
     "text": [
      "Validation: 29it [00:01, 20.22it/s]                        \n"
     ]
    },
    {
     "name": "stdout",
     "output_type": "stream",
     "text": [
      "Val Loss: 0.8266 | Val Acc: 0.7163\n",
      "Epoch [100/100]\n",
      "Epoch 99:\n"
     ]
    },
    {
     "name": "stderr",
     "output_type": "stream",
     "text": [
      "Training Model:  33%|███▎      | 27/81 [00:28<00:56,  1.05s/it]\n"
     ]
    },
    {
     "name": "stdout",
     "output_type": "stream",
     "text": [
      "Train Loss: 65.4949 | Train Acc: 0.9649\n",
      "Train Loss: 66.0814 Acc: 17127.8889\n"
     ]
    },
    {
     "name": "stderr",
     "output_type": "stream",
     "text": [
      "Validation: 29it [00:01, 20.86it/s]                        "
     ]
    },
    {
     "name": "stdout",
     "output_type": "stream",
     "text": [
      "Val Loss: 0.8312 | Val Acc: 0.7128\n"
     ]
    },
    {
     "name": "stderr",
     "output_type": "stream",
     "text": [
      "\n"
     ]
    }
   ],
   "source": [
    "net_copy, test_acc, train_acc = train_model(model, num_epochs=num_epochs, criterion=criterion, optimizer=optimizer, batch_size=batch_size)"
   ]
  },
  {
   "cell_type": "code",
   "execution_count": 28,
   "metadata": {
    "colab": {
     "base_uri": "https://localhost:8080/"
    },
    "executionInfo": {
     "elapsed": 28307,
     "status": "ok",
     "timestamp": 1748186382263,
     "user": {
      "displayName": "Movies Tonight",
      "userId": "05638868713549501183"
     },
     "user_tz": -300
    },
    "id": "kc0YrkZWjZ9j",
    "outputId": "fd05dd72-bf08-4f8b-afe9-a336438921a7"
   },
   "outputs": [
    {
     "name": "stdout",
     "output_type": "stream",
     "text": [
      "Test Accuracy: 82.76%\n"
     ]
    }
   ],
   "source": [
    "new_testing_accuracy = []\n",
    "def get_testing_accuracy(models, test_loader, device):\n",
    "    models.eval()  # Set model to evaluation mode\n",
    "    correct = 0\n",
    "    total = 0\n",
    "\n",
    "    with torch.no_grad():  # Disable gradient calculation\n",
    "        for inputs, labels in test_loader:\n",
    "            # Move data to the same device as the model\n",
    "            inputs, labels = inputs.to(device), labels.to(device)\n",
    "\n",
    "            # Forward pass\n",
    "            outputs = models(inputs)\n",
    "\n",
    "            # Get predictions (argmax of logits)\n",
    "            _, predicted = torch.max(outputs.data, 1)\n",
    "\n",
    "            # Update counts\n",
    "            total += labels.size(0)\n",
    "            correct += (predicted == labels).sum().item()\n",
    "\n",
    "            new_testing_accuracy.append(correct/total)\n",
    "\n",
    "    # Calculate accuracy\n",
    "    accuracy = 100 * correct / total\n",
    "    return accuracy\n",
    "\n",
    "# Compute test accuracy\n",
    "test_accuracy = get_testing_accuracy(net_copy, test_dataloader, device)\n",
    "print(f\"Test Accuracy: {test_accuracy:.2f}%\")"
   ]
  },
  {
   "cell_type": "code",
   "execution_count": 29,
   "metadata": {
    "colab": {
     "base_uri": "https://localhost:8080/"
    },
    "executionInfo": {
     "elapsed": 17,
     "status": "ok",
     "timestamp": 1748186382264,
     "user": {
      "displayName": "Movies Tonight",
      "userId": "05638868713549501183"
     },
     "user_tz": -300
    },
    "id": "fRhebpe-5F2S",
    "outputId": "33c4b52a-28f3-4337-f302-fa77d24b4cda"
   },
   "outputs": [
    {
     "name": "stdout",
     "output_type": "stream",
     "text": [
      "Training Accuracy: 0.9648617511520737\n",
      "Validation Accuracy: 0.71280276816609\n",
      "Testing Accuracy: 82.75862068965517\n"
     ]
    }
   ],
   "source": [
    "# Accuracy Score\n",
    "print(f\"Training Accuracy: {train_acc}\")\n",
    "print(f\"Validation Accuracy: {test_acc}\")\n",
    "print(f\"Testing Accuracy: {test_accuracy}\")"
   ]
  },
  {
   "cell_type": "code",
   "execution_count": 30,
   "metadata": {
    "colab": {
     "base_uri": "https://localhost:8080/"
    },
    "executionInfo": {
     "elapsed": 11,
     "status": "ok",
     "timestamp": 1748186382264,
     "user": {
      "displayName": "Movies Tonight",
      "userId": "05638868713549501183"
     },
     "user_tz": -300
    },
    "id": "-esTbcx3TSE_",
    "outputId": "41b4f16d-059b-4e57-d690-e6ee17607040"
   },
   "outputs": [
    {
     "name": "stdout",
     "output_type": "stream",
     "text": [
      "testing: [0.9, 0.8, 0.8666666666666667, 0.9, 0.88, 0.8833333333333333, 0.8428571428571429, 0.825, 0.8444444444444444, 0.83, 0.8272727272727273, 0.825, 0.8384615384615385, 0.8428571428571429, 0.8333333333333334, 0.8375, 0.8294117647058824, 0.8277777777777777, 0.8157894736842105, 0.82, 0.8238095238095238, 0.8272727272727273, 0.8260869565217391, 0.825, 0.824, 0.8192307692307692, 0.8185185185185185, 0.8214285714285714, 0.8275862068965517]\n"
     ]
    }
   ],
   "source": [
    "print(f\"testing: {new_testing_accuracy}\")"
   ]
  },
  {
   "cell_type": "code",
   "execution_count": 31,
   "metadata": {
    "executionInfo": {
     "elapsed": 637,
     "status": "ok",
     "timestamp": 1748186382898,
     "user": {
      "displayName": "Movies Tonight",
      "userId": "05638868713549501183"
     },
     "user_tz": -300
    },
    "id": "lddWuxzEmIVq"
   },
   "outputs": [],
   "source": [
    "from sklearn.metrics import precision_score, recall_score, f1_score\n",
    "\n",
    "y_true = []\n",
    "y_pred = []\n",
    "\n",
    "def evaluate_model(model, dataloader, device):\n",
    "    \"\"\"\n",
    "    Evaluate PyTorch model and return precision, recall, and F1 score\n",
    "    Args:\n",
    "        model: Trained PyTorch model\n",
    "        dataloader: Test/Validation DataLoader\n",
    "        device: 'cuda' or 'cpu'\n",
    "    Returns:\n",
    "        Dictionary containing precision, recall, and F1 score\n",
    "    \"\"\"\n",
    "    model.eval()  # Set model to evaluation mode\n",
    "    y_true.clear()\n",
    "    y_pred.clear()\n",
    "\n",
    "    with torch.no_grad():\n",
    "        for inputs, labels in dataloader:\n",
    "            inputs = inputs.to(device)\n",
    "            labels = labels.to(device)\n",
    "\n",
    "            # Forward pass\n",
    "            outputs = model(inputs)\n",
    "\n",
    "            # Get predictions\n",
    "            _, predictions = torch.max(outputs, 1)\n",
    "\n",
    "            # Move to CPU for sklearn compatibility\n",
    "            y_true.extend(labels.cpu().numpy())\n",
    "            y_pred.extend(predictions.cpu().numpy())\n",
    "\n",
    "    # Calculate metrics\n",
    "    metrics = {\n",
    "        'precision': precision_score(y_true, y_pred, average='weighted'),\n",
    "        'recall': recall_score(y_true, y_pred, average='weighted'),\n",
    "        'f1': f1_score(y_true, y_pred, average='weighted')\n",
    "    }\n",
    "\n",
    "    return metrics"
   ]
  },
  {
   "cell_type": "code",
   "execution_count": 32,
   "metadata": {
    "colab": {
     "base_uri": "https://localhost:8080/"
    },
    "executionInfo": {
     "elapsed": 1612,
     "status": "ok",
     "timestamp": 1748186384512,
     "user": {
      "displayName": "Movies Tonight",
      "userId": "05638868713549501183"
     },
     "user_tz": -300
    },
    "id": "dO5ZxbvV5IvQ",
    "outputId": "ea366b5d-933b-462f-e920-8d6638481c97"
   },
   "outputs": [
    {
     "name": "stdout",
     "output_type": "stream",
     "text": [
      "Precision: 0.8311\n",
      "Recall: 0.8276\n",
      "F1 Score: 0.8275\n"
     ]
    }
   ],
   "source": [
    "metrics = evaluate_model(net_copy, test_dataloader, device)\n",
    "print(f\"Precision: {metrics['precision']:.4f}\")\n",
    "print(f\"Recall: {metrics['recall']:.4f}\")\n",
    "print(f\"F1 Score: {metrics['f1']:.4f}\")"
   ]
  },
  {
   "cell_type": "code",
   "execution_count": 33,
   "metadata": {
    "colab": {
     "base_uri": "https://localhost:8080/",
     "height": 472
    },
    "executionInfo": {
     "elapsed": 325,
     "status": "ok",
     "timestamp": 1748186384840,
     "user": {
      "displayName": "Movies Tonight",
      "userId": "05638868713549501183"
     },
     "user_tz": -300
    },
    "id": "1AWOOgTlgsud",
    "outputId": "024ee67e-22b2-44b6-9e2c-74c0b7940c05"
   },
   "outputs": [
    {
     "data": {
      "image/png": "[encoded data removed]",
      "text/plain": [
       "<Figure size 640x480 with 1 Axes>"
      ]
     },
     "metadata": {},
     "output_type": "display_data"
    }
   ],
   "source": [
    "# Plot losses\n",
    "plt.plot(train_losses, label='Training Loss')\n",
    "plt.plot(val_losses, label='Validation Loss')\n",
    "plt.title('Training and Validation Loss')\n",
    "plt.xlabel('Epoch')\n",
    "plt.ylabel('Loss')\n",
    "plt.legend()\n",
    "plt.show()"
   ]
  },
  {
   "cell_type": "code",
   "execution_count": 34,
   "metadata": {
    "colab": {
     "base_uri": "https://localhost:8080/",
     "height": 472
    },
    "executionInfo": {
     "elapsed": 242,
     "status": "ok",
     "timestamp": 1748186385084,
     "user": {
      "displayName": "Movies Tonight",
      "userId": "05638868713549501183"
     },
     "user_tz": -300
    },
    "id": "0uhu_gVuSP0c",
    "outputId": "1d319a1d-d0a8-451f-b382-a5f892cc8e42"
   },
   "outputs": [
    {
     "data": {
      "image/png": "[encoded data removed]",
      "text/plain": [
       "<Figure size 640x480 with 1 Axes>"
      ]
     },
     "metadata": {},
     "output_type": "display_data"
    }
   ],
   "source": [
    "# Plot losses\n",
    "plt.plot(train_acc, label='Training Accuracy')\n",
    "plt.plot(test_acc, label='Validation Accuracy')\n",
    "plt.plot(new_testing_accuracy, label='Testing Accuracy')\n",
    "plt.title('Accuracies')\n",
    "plt.xlabel('Epoch')\n",
    "plt.ylabel('Accuracy')\n",
    "plt.legend()\n",
    "plt.show()"
   ]
  },
  {
   "cell_type": "code",
   "execution_count": 35,
   "metadata": {
    "colab": {
     "base_uri": "https://localhost:8080/"
    },
    "executionInfo": {
     "elapsed": 96,
     "status": "ok",
     "timestamp": 1748186385185,
     "user": {
      "displayName": "Movies Tonight",
      "userId": "05638868713549501183"
     },
     "user_tz": -300
    },
    "id": "5btDVipt5LhI",
    "outputId": "1f23fa70-f3ba-4ea3-b2b3-6ec9b56a3867"
   },
   "outputs": [
    {
     "name": "stdout",
     "output_type": "stream",
     "text": [
      "Predicted Score: 0.5761168599128723\n",
      "Predicted Label: 1\n",
      "Predicted Score: 0.5761168599128723\n",
      "Predicted Label: 1\n",
      "Predicted Score: 0.5761168599128723\n",
      "Predicted Label: 1\n",
      "Predicted Score: 0.5761168599128723\n",
      "Predicted Label: 1\n",
      "Predicted Score: 0.5761168599128723\n",
      "Predicted Label: 1\n",
      "Predicted Score: 0.5761168599128723\n",
      "Predicted Label: 1\n"
     ]
    }
   ],
   "source": [
    "net_copy.eval()\n",
    "\n",
    "pred_scores = []\n",
    "pred_label_index = []\n",
    "\n",
    "for i in range(0, len(input_img)):\n",
    "  output = net_copy(torchvision.transforms.functional.rgb_to_grayscale(input_img[i].to(device)))\n",
    "  # output = net_copy(input_img[i].type(torch.FloatTensor).to(device))\n",
    "  output = F.softmax(output, dim=1)\n",
    "  prediction_score, pred_label_idx = torch.topk(output, k=1)\n",
    "  pred_scores.append(prediction_score)\n",
    "  pred_label_index.append(pred_label_idx)\n",
    "  print(f\"Predicted Score: {prediction_score.squeeze().item()}\")\n",
    "  print(f\"Predicted Label: {pred_label_idx.squeeze().item()}\")"
   ]
  },
  {
   "cell_type": "code",
   "execution_count": 36,
   "metadata": {
    "colab": {
     "base_uri": "https://localhost:8080/"
    },
    "executionInfo": {
     "elapsed": 58,
     "status": "ok",
     "timestamp": 1748186385248,
     "user": {
      "displayName": "Movies Tonight",
      "userId": "05638868713549501183"
     },
     "user_tz": -300
    },
    "id": "sN5Xu4KdpidY",
    "outputId": "580278b6-1ac4-4bb2-8e76-a7abc126316a"
   },
   "outputs": [
    {
     "data": {
      "text/plain": [
       "{'': CNN(\n",
       "   (features): Sequential(\n",
       "     (0): Conv2d(1, 8, kernel_size=(3, 3), stride=(1, 1), padding=same)\n",
       "     (1): ReLU()\n",
       "     (2): MaxPool2d(kernel_size=2, stride=2, padding=0, dilation=1, ceil_mode=False)\n",
       "     (3): Sequential(\n",
       "       (0): Conv2d(8, 16, kernel_size=(3, 3), stride=(1, 1), padding=same)\n",
       "       (1): ReLU()\n",
       "       (2): MaxPool2d(kernel_size=2, stride=2, padding=0, dilation=1, ceil_mode=False)\n",
       "     )\n",
       "     (4): Sequential(\n",
       "       (0): Conv2d(16, 32, kernel_size=(3, 3), stride=(1, 1), padding=same)\n",
       "       (1): ReLU()\n",
       "       (2): MaxPool2d(kernel_size=2, stride=2, padding=0, dilation=1, ceil_mode=False)\n",
       "     )\n",
       "     (5): Sequential(\n",
       "       (0): Conv2d(32, 64, kernel_size=(3, 3), stride=(1, 1), padding=same)\n",
       "       (1): ReLU()\n",
       "       (2): MaxPool2d(kernel_size=2, stride=2, padding=0, dilation=1, ceil_mode=False)\n",
       "     )\n",
       "     (6): Sequential(\n",
       "       (0): Conv2d(64, 128, kernel_size=(3, 3), stride=(1, 1), padding=same)\n",
       "       (1): ReLU()\n",
       "       (2): MaxPool2d(kernel_size=2, stride=2, padding=0, dilation=1, ceil_mode=False)\n",
       "     )\n",
       "     (7): Sequential(\n",
       "       (0): Conv2d(128, 256, kernel_size=(3, 3), stride=(1, 1), padding=same)\n",
       "       (1): ReLU()\n",
       "       (2): MaxPool2d(kernel_size=2, stride=2, padding=0, dilation=1, ceil_mode=False)\n",
       "     )\n",
       "     (8): BatchNorm2d(256, eps=1e-05, momentum=0.1, affine=True, track_running_stats=True)\n",
       "     (9): AdaptiveAvgPool2d(output_size=1)\n",
       "   )\n",
       "   (classifier): Sequential(\n",
       "     (0): Flatten(start_dim=1, end_dim=-1)\n",
       "     (1): Linear(in_features=256, out_features=512, bias=True)\n",
       "     (2): LeakyReLU(negative_slope=0.01)\n",
       "     (3): Linear(in_features=512, out_features=3, bias=True)\n",
       "     (4): Softmax(dim=1)\n",
       "   )\n",
       " ),\n",
       " 'features': Sequential(\n",
       "   (0): Conv2d(1, 8, kernel_size=(3, 3), stride=(1, 1), padding=same)\n",
       "   (1): ReLU()\n",
       "   (2): MaxPool2d(kernel_size=2, stride=2, padding=0, dilation=1, ceil_mode=False)\n",
       "   (3): Sequential(\n",
       "     (0): Conv2d(8, 16, kernel_size=(3, 3), stride=(1, 1), padding=same)\n",
       "     (1): ReLU()\n",
       "     (2): MaxPool2d(kernel_size=2, stride=2, padding=0, dilation=1, ceil_mode=False)\n",
       "   )\n",
       "   (4): Sequential(\n",
       "     (0): Conv2d(16, 32, kernel_size=(3, 3), stride=(1, 1), padding=same)\n",
       "     (1): ReLU()\n",
       "     (2): MaxPool2d(kernel_size=2, stride=2, padding=0, dilation=1, ceil_mode=False)\n",
       "   )\n",
       "   (5): Sequential(\n",
       "     (0): Conv2d(32, 64, kernel_size=(3, 3), stride=(1, 1), padding=same)\n",
       "     (1): ReLU()\n",
       "     (2): MaxPool2d(kernel_size=2, stride=2, padding=0, dilation=1, ceil_mode=False)\n",
       "   )\n",
       "   (6): Sequential(\n",
       "     (0): Conv2d(64, 128, kernel_size=(3, 3), stride=(1, 1), padding=same)\n",
       "     (1): ReLU()\n",
       "     (2): MaxPool2d(kernel_size=2, stride=2, padding=0, dilation=1, ceil_mode=False)\n",
       "   )\n",
       "   (7): Sequential(\n",
       "     (0): Conv2d(128, 256, kernel_size=(3, 3), stride=(1, 1), padding=same)\n",
       "     (1): ReLU()\n",
       "     (2): MaxPool2d(kernel_size=2, stride=2, padding=0, dilation=1, ceil_mode=False)\n",
       "   )\n",
       "   (8): BatchNorm2d(256, eps=1e-05, momentum=0.1, affine=True, track_running_stats=True)\n",
       "   (9): AdaptiveAvgPool2d(output_size=1)\n",
       " ),\n",
       " 'features.0': Conv2d(1, 8, kernel_size=(3, 3), stride=(1, 1), padding=same),\n",
       " 'features.1': ReLU(),\n",
       " 'features.2': MaxPool2d(kernel_size=2, stride=2, padding=0, dilation=1, ceil_mode=False),\n",
       " 'features.3': Sequential(\n",
       "   (0): Conv2d(8, 16, kernel_size=(3, 3), stride=(1, 1), padding=same)\n",
       "   (1): ReLU()\n",
       "   (2): MaxPool2d(kernel_size=2, stride=2, padding=0, dilation=1, ceil_mode=False)\n",
       " ),\n",
       " 'features.3.0': Conv2d(8, 16, kernel_size=(3, 3), stride=(1, 1), padding=same),\n",
       " 'features.3.1': ReLU(),\n",
       " 'features.3.2': MaxPool2d(kernel_size=2, stride=2, padding=0, dilation=1, ceil_mode=False),\n",
       " 'features.4': Sequential(\n",
       "   (0): Conv2d(16, 32, kernel_size=(3, 3), stride=(1, 1), padding=same)\n",
       "   (1): ReLU()\n",
       "   (2): MaxPool2d(kernel_size=2, stride=2, padding=0, dilation=1, ceil_mode=False)\n",
       " ),\n",
       " 'features.4.0': Conv2d(16, 32, kernel_size=(3, 3), stride=(1, 1), padding=same),\n",
       " 'features.4.1': ReLU(),\n",
       " 'features.4.2': MaxPool2d(kernel_size=2, stride=2, padding=0, dilation=1, ceil_mode=False),\n",
       " 'features.5': Sequential(\n",
       "   (0): Conv2d(32, 64, kernel_size=(3, 3), stride=(1, 1), padding=same)\n",
       "   (1): ReLU()\n",
       "   (2): MaxPool2d(kernel_size=2, stride=2, padding=0, dilation=1, ceil_mode=False)\n",
       " ),\n",
       " 'features.5.0': Conv2d(32, 64, kernel_size=(3, 3), stride=(1, 1), padding=same),\n",
       " 'features.5.1': ReLU(),\n",
       " 'features.5.2': MaxPool2d(kernel_size=2, stride=2, padding=0, dilation=1, ceil_mode=False),\n",
       " 'features.6': Sequential(\n",
       "   (0): Conv2d(64, 128, kernel_size=(3, 3), stride=(1, 1), padding=same)\n",
       "   (1): ReLU()\n",
       "   (2): MaxPool2d(kernel_size=2, stride=2, padding=0, dilation=1, ceil_mode=False)\n",
       " ),\n",
       " 'features.6.0': Conv2d(64, 128, kernel_size=(3, 3), stride=(1, 1), padding=same),\n",
       " 'features.6.1': ReLU(),\n",
       " 'features.6.2': MaxPool2d(kernel_size=2, stride=2, padding=0, dilation=1, ceil_mode=False),\n",
       " 'features.7': Sequential(\n",
       "   (0): Conv2d(128, 256, kernel_size=(3, 3), stride=(1, 1), padding=same)\n",
       "   (1): ReLU()\n",
       "   (2): MaxPool2d(kernel_size=2, stride=2, padding=0, dilation=1, ceil_mode=False)\n",
       " ),\n",
       " 'features.7.0': Conv2d(128, 256, kernel_size=(3, 3), stride=(1, 1), padding=same),\n",
       " 'features.7.1': ReLU(),\n",
       " 'features.7.2': MaxPool2d(kernel_size=2, stride=2, padding=0, dilation=1, ceil_mode=False),\n",
       " 'features.8': BatchNorm2d(256, eps=1e-05, momentum=0.1, affine=True, track_running_stats=True),\n",
       " 'features.9': AdaptiveAvgPool2d(output_size=1),\n",
       " 'classifier': Sequential(\n",
       "   (0): Flatten(start_dim=1, end_dim=-1)\n",
       "   (1): Linear(in_features=256, out_features=512, bias=True)\n",
       "   (2): LeakyReLU(negative_slope=0.01)\n",
       "   (3): Linear(in_features=512, out_features=3, bias=True)\n",
       "   (4): Softmax(dim=1)\n",
       " ),\n",
       " 'classifier.0': Flatten(start_dim=1, end_dim=-1),\n",
       " 'classifier.1': Linear(in_features=256, out_features=512, bias=True),\n",
       " 'classifier.2': LeakyReLU(negative_slope=0.01),\n",
       " 'classifier.3': Linear(in_features=512, out_features=3, bias=True),\n",
       " 'classifier.4': Softmax(dim=1)}"
      ]
     },
     "execution_count": 36,
     "metadata": {},
     "output_type": "execute_result"
    }
   ],
   "source": [
    "named_layers = dict(net_copy.named_modules())\n",
    "named_layers"
   ]
  },
  {
   "cell_type": "code",
   "execution_count": 37,
   "metadata": {
    "colab": {
     "base_uri": "https://localhost:8080/"
    },
    "executionInfo": {
     "elapsed": 16,
     "status": "ok",
     "timestamp": 1748186385263,
     "user": {
      "displayName": "Movies Tonight",
      "userId": "05638868713549501183"
     },
     "user_tz": -300
    },
    "id": "T_DB0WGe5Pqk",
    "outputId": "921e708d-e52e-433a-f7a0-a598c10c5675"
   },
   "outputs": [
    {
     "name": "stdout",
     "output_type": "stream",
     "text": [
      "features.0\n",
      "features.3.0\n",
      "features.4.0\n",
      "features.5.0\n",
      "features.6.0\n",
      "features.7.0\n"
     ]
    }
   ],
   "source": [
    "# Print all the CNN Layers from our trained model.\n",
    "\n",
    "for name, layer in named_layers.items():\n",
    "  if isinstance(layer, nn.Conv2d):\n",
    "    print(name)"
   ]
  },
  {
   "cell_type": "code",
   "execution_count": 38,
   "metadata": {
    "executionInfo": {
     "elapsed": 7,
     "status": "ok",
     "timestamp": 1748186385272,
     "user": {
      "displayName": "Movies Tonight",
      "userId": "05638868713549501183"
     },
     "user_tz": -300
    },
    "id": "uyLIlUBD5iAi"
   },
   "outputs": [],
   "source": [
    "def LayerGradCams(models, features_layers):\n",
    "\n",
    "  models.eval()  # Enable gradients\n",
    "  for param in models.parameters():\n",
    "      param.requires_grad = True\n",
    "\n",
    "  for i in range(0, len(features_layers)):\n",
    "    if features_layers[i] == 0:\n",
    "      target_layer = models.features[0]\n",
    "    else:\n",
    "      target_layer = models.features[features_layers[i]][0]\n",
    "     # Skip non-convolutional layers\n",
    "    if not isinstance(target_layer, nn.Conv2d):\n",
    "        print(f\"Skipping non-conv layer: {target_layer}\")\n",
    "        continue\n",
    "\n",
    "    # Register hooks\n",
    "    def forward_hook(module, input, output):\n",
    "      print(f\"Layer {i} activations - Min: {output.min()}, Max: {output.max()}\")\n",
    "\n",
    "    def backward_hook(module, grad_input, grad_output):\n",
    "      print(f\"Layer {i} gradients - Min: {grad_output[0].min()}, Max: {grad_output[0].max()}\")\n",
    "\n",
    "    fwd_hook = target_layer.register_forward_hook(forward_hook)\n",
    "    bwd_hook = target_layer.register_backward_hook(backward_hook)\n",
    "\n",
    "    layer_gradcam = LayerGradCam(models, target_layer)\n",
    "    print(f\"Layer {i}: {target_layer}\")  # Check if layer is Conv2d\n",
    "\n",
    "    for j in range(0, len(input_img)):\n",
    "      input_tensor = input_img[j].clone().detach().to(device).requires_grad_(True)\n",
    "\n",
    "      # Check model prediction\n",
    "      with torch.no_grad():\n",
    "        logits = models(input_tensor)\n",
    "        predicted_class = logits.argmax(dim=1).item()\n",
    "        print(f\"Image {j} | Target: {pred_label_index[j]} | Predicted: {predicted_class}\")\n",
    "\n",
    "      # Compute attributions\n",
    "      try:\n",
    "          attributions_lgc = layer_gradcam.attribute(\n",
    "            input_tensor,\n",
    "            target=pred_label_index[j]\n",
    "          )\n",
    "      except Exception as e:\n",
    "          print(f\"Error computing attributions: {e}\")\n",
    "          continue\n",
    "\n",
    "      # Check for zero attributions\n",
    "      if torch.all(attributions_lgc == 0):\n",
    "        print(f\"Skipping layer {i}, image {j}: Zero attributions!\")\n",
    "        continue\n",
    "\n",
    "      print(\"Attributions min/max:\", attributions_lgc.min().item(), attributions_lgc.max().item())\n",
    "      print(attributions_lgc.squeeze().unsqueeze(2).shape)\n",
    "      print(torch.from_numpy(original_img[j]).unsqueeze(1).permute(0,2,1).shape)\n",
    "      # attributions_lgc = attributions_lgc.squeeze().unsqueeze(2).cpu().detach().numpy() # returns a [400, 400, 1] numpy array\n",
    "\n",
    "      # Normalize with epsilon to avoid division by zero\n",
    "      attributions_lgc = (attributions_lgc - attributions_lgc.min()) / \\\n",
    "                          (attributions_lgc.max() - attributions_lgc.min() + 1e-8)\n",
    "\n",
    "      upsamp_attr_lgc = LayerAttribution.interpolate(attributions_lgc, input_img[j].shape[2:])\n",
    "      upsamp_attr_np = upsamp_attr_lgc[0].cpu().detach().numpy()\n",
    "      upsamp_attr_np = np.transpose(upsamp_attr_np, (1, 2, 0))\n",
    "      print(upsamp_attr_np.shape)\n",
    "      # upsamp_attr_np = np.repeat(upsamp_attr_np, 3, axis=2)\n",
    "\n",
    "      print(f\"Feature Layer no: {features_layers[i]}\")\n",
    "\n",
    "\n",
    "      _ = viz.visualize_image_attr_multiple(upsamp_attr_np, \\\n",
    "                                          new_img[j].permute(1,2,0).numpy(), \\\n",
    "                                          # original_img[j], \\\n",
    "                                          methods=[\"original_image\",\"heat_map\"], \\\n",
    "                                          signs=[\"all\",\"all\"], \\\n",
    "                                          # cmap=plt.colormaps.get_cmap('plasma'), \\\n",
    "                                          cmap=plt.cm.plasma, \\\n",
    "                                          show_colorbar = True, \\\n",
    "                                          fig_size=(6, 5))\n",
    "\n",
    "      fwd_hook.remove()  # Remove debug hook\n",
    "      bwd_hook.remove()  # Remove debug hook\n"
   ]
  },
  {
   "cell_type": "code",
   "execution_count": 39,
   "metadata": {
    "colab": {
     "base_uri": "https://localhost:8080/",
     "height": 1000,
     "output_embedded_package_id": "1_yZYEPObwg2gARs5p2J-MqkxhK4Is121"
    },
    "executionInfo": {
     "elapsed": 13026,
     "status": "ok",
     "timestamp": 1748186398301,
     "user": {
      "displayName": "Movies Tonight",
      "userId": "05638868713549501183"
     },
     "user_tz": -300
    },
    "id": "iWbxIhqg5TcV",
    "outputId": "ac701927-ca8b-4d4f-c3d6-da31c1720d8d"
   },
   "outputs": [
    {
     "data": {
      "text/plain": [
       "Output hidden; open in https://colab.research.google.com to view."
      ]
     },
     "metadata": {},
     "output_type": "display_data"
    }
   ],
   "source": [
    "features_layers = [0, 3, 4, 5, 6]\n",
    "LayerGradCams(net_copy, features_layers)"
   ]
  },
  {
   "cell_type": "code",
   "execution_count": 41,
   "metadata": {
    "colab": {
     "base_uri": "https://localhost:8080/",
     "height": 902
    },
    "executionInfo": {
     "elapsed": 7023,
     "status": "error",
     "timestamp": 1748186504327,
     "user": {
      "displayName": "Movies Tonight",
      "userId": "05638868713549501183"
     },
     "user_tz": -300
    },
    "id": "-jWL7jW95bF9",
    "outputId": "5c20e0c0-7dd4-4e1b-a06a-9864c0ee083c"
   },
   "outputs": [
    {
     "name": "stdout",
     "output_type": "stream",
     "text": [
      "Attributions shape: (400, 400, 1)\n",
      "Original image shape: (400, 400)\n"
     ]
    },
    {
     "ename": "AssertionError",
     "evalue": "Cannot normalize by scale factor = 0",
     "output_type": "error",
     "traceback": [
      "\u001b[0;31m---------------------------------------------------------------------------\u001b[0m",
      "\u001b[0;31mAssertionError\u001b[0m                            Traceback (most recent call last)",
      "\u001b[0;32m<ipython-input-41-009e8fb03c75>\u001b[0m in \u001b[0;36m<cell line: 0>\u001b[0;34m()\u001b[0m\n\u001b[1;32m     21\u001b[0m \u001b[0;34m\u001b[0m\u001b[0m\n\u001b[1;32m     22\u001b[0m   \u001b[0;31m# Visualize\u001b[0m\u001b[0;34m\u001b[0m\u001b[0;34m\u001b[0m\u001b[0m\n\u001b[0;32m---> 23\u001b[0;31m   _,axis = viz.visualize_image_attr_multiple(\n\u001b[0m\u001b[1;32m     24\u001b[0m       \u001b[0mattributions_np\u001b[0m\u001b[0;34m,\u001b[0m\u001b[0;34m\u001b[0m\u001b[0;34m\u001b[0m\u001b[0m\n\u001b[1;32m     25\u001b[0m       \u001b[0moriginal_img\u001b[0m\u001b[0;34m[\u001b[0m\u001b[0mi\u001b[0m\u001b[0;34m]\u001b[0m\u001b[0;34m,\u001b[0m\u001b[0;34m\u001b[0m\u001b[0;34m\u001b[0m\u001b[0m\n",
      "\u001b[0;32m/usr/local/lib/python3.11/dist-packages/captum/attr/_utils/visualization.py\u001b[0m in \u001b[0;36mvisualize_image_attr_multiple\u001b[0;34m(attr, original_image, methods, signs, titles, fig_size, use_pyplot, **kwargs)\u001b[0m\n\u001b[1;32m    533\u001b[0m \u001b[0;34m\u001b[0m\u001b[0m\n\u001b[1;32m    534\u001b[0m     \u001b[0;32mfor\u001b[0m \u001b[0mi\u001b[0m \u001b[0;32min\u001b[0m \u001b[0mrange\u001b[0m\u001b[0;34m(\u001b[0m\u001b[0mlen\u001b[0m\u001b[0;34m(\u001b[0m\u001b[0mmethods\u001b[0m\u001b[0;34m)\u001b[0m\u001b[0;34m)\u001b[0m\u001b[0;34m:\u001b[0m\u001b[0;34m\u001b[0m\u001b[0;34m\u001b[0m\u001b[0m\n\u001b[0;32m--> 535\u001b[0;31m         visualize_image_attr(\n\u001b[0m\u001b[1;32m    536\u001b[0m             \u001b[0mattr\u001b[0m\u001b[0;34m,\u001b[0m\u001b[0;34m\u001b[0m\u001b[0;34m\u001b[0m\u001b[0m\n\u001b[1;32m    537\u001b[0m             \u001b[0moriginal_image\u001b[0m\u001b[0;34m=\u001b[0m\u001b[0moriginal_image\u001b[0m\u001b[0;34m,\u001b[0m\u001b[0;34m\u001b[0m\u001b[0;34m\u001b[0m\u001b[0m\n",
      "\u001b[0;32m/usr/local/lib/python3.11/dist-packages/captum/attr/_utils/visualization.py\u001b[0m in \u001b[0;36mvisualize_image_attr\u001b[0;34m(attr, original_image, method, sign, plt_fig_axis, outlier_perc, cmap, alpha_overlay, show_colorbar, title, fig_size, use_pyplot)\u001b[0m\n\u001b[1;32m    395\u001b[0m     }\n\u001b[1;32m    396\u001b[0m     \u001b[0;31m# Choose appropriate signed attributions and normalize.\u001b[0m\u001b[0;34m\u001b[0m\u001b[0;34m\u001b[0m\u001b[0m\n\u001b[0;32m--> 397\u001b[0;31m     \u001b[0mnorm_attr\u001b[0m \u001b[0;34m=\u001b[0m \u001b[0m_normalize_attr\u001b[0m\u001b[0;34m(\u001b[0m\u001b[0mattr\u001b[0m\u001b[0;34m,\u001b[0m \u001b[0msign\u001b[0m\u001b[0;34m,\u001b[0m \u001b[0moutlier_perc\u001b[0m\u001b[0;34m,\u001b[0m \u001b[0mreduction_axis\u001b[0m\u001b[0;34m=\u001b[0m\u001b[0;36m2\u001b[0m\u001b[0;34m)\u001b[0m\u001b[0;34m\u001b[0m\u001b[0;34m\u001b[0m\u001b[0m\n\u001b[0m\u001b[1;32m    398\u001b[0m \u001b[0;34m\u001b[0m\u001b[0m\n\u001b[1;32m    399\u001b[0m     \u001b[0;31m# Set default colormap and bounds based on sign.\u001b[0m\u001b[0;34m\u001b[0m\u001b[0;34m\u001b[0m\u001b[0m\n",
      "\u001b[0;32m/usr/local/lib/python3.11/dist-packages/captum/attr/_utils/visualization.py\u001b[0m in \u001b[0;36m_normalize_attr\u001b[0;34m(attr, sign, outlier_perc, reduction_axis)\u001b[0m\n\u001b[1;32m    108\u001b[0m     \u001b[0;32melse\u001b[0m\u001b[0;34m:\u001b[0m\u001b[0;34m\u001b[0m\u001b[0;34m\u001b[0m\u001b[0m\n\u001b[1;32m    109\u001b[0m         \u001b[0;32mraise\u001b[0m \u001b[0mAssertionError\u001b[0m\u001b[0;34m(\u001b[0m\u001b[0;34m\"Visualize Sign type is not valid.\"\u001b[0m\u001b[0;34m)\u001b[0m\u001b[0;34m\u001b[0m\u001b[0;34m\u001b[0m\u001b[0m\n\u001b[0;32m--> 110\u001b[0;31m     \u001b[0;32mreturn\u001b[0m \u001b[0m_normalize_scale\u001b[0m\u001b[0;34m(\u001b[0m\u001b[0mattr_combined\u001b[0m\u001b[0;34m,\u001b[0m \u001b[0mthreshold\u001b[0m\u001b[0;34m)\u001b[0m\u001b[0;34m\u001b[0m\u001b[0;34m\u001b[0m\u001b[0m\n\u001b[0m\u001b[1;32m    111\u001b[0m \u001b[0;34m\u001b[0m\u001b[0m\n\u001b[1;32m    112\u001b[0m \u001b[0;34m\u001b[0m\u001b[0m\n",
      "\u001b[0;32m/usr/local/lib/python3.11/dist-packages/captum/attr/_utils/visualization.py\u001b[0m in \u001b[0;36m_normalize_scale\u001b[0;34m(attr, scale_factor)\u001b[0m\n\u001b[1;32m     54\u001b[0m \u001b[0;34m\u001b[0m\u001b[0m\n\u001b[1;32m     55\u001b[0m \u001b[0;32mdef\u001b[0m \u001b[0m_normalize_scale\u001b[0m\u001b[0;34m(\u001b[0m\u001b[0mattr\u001b[0m\u001b[0;34m:\u001b[0m \u001b[0mnpt\u001b[0m\u001b[0;34m.\u001b[0m\u001b[0mNDArray\u001b[0m\u001b[0;34m,\u001b[0m \u001b[0mscale_factor\u001b[0m\u001b[0;34m:\u001b[0m \u001b[0mfloat\u001b[0m\u001b[0;34m)\u001b[0m \u001b[0;34m->\u001b[0m \u001b[0mnpt\u001b[0m\u001b[0;34m.\u001b[0m\u001b[0mNDArray\u001b[0m\u001b[0;34m:\u001b[0m\u001b[0;34m\u001b[0m\u001b[0;34m\u001b[0m\u001b[0m\n\u001b[0;32m---> 56\u001b[0;31m     \u001b[0;32massert\u001b[0m \u001b[0mscale_factor\u001b[0m \u001b[0;34m!=\u001b[0m \u001b[0;36m0\u001b[0m\u001b[0;34m,\u001b[0m \u001b[0;34m\"Cannot normalize by scale factor = 0\"\u001b[0m\u001b[0;34m\u001b[0m\u001b[0;34m\u001b[0m\u001b[0m\n\u001b[0m\u001b[1;32m     57\u001b[0m     \u001b[0;32mif\u001b[0m \u001b[0mabs\u001b[0m\u001b[0;34m(\u001b[0m\u001b[0mscale_factor\u001b[0m\u001b[0;34m)\u001b[0m \u001b[0;34m<\u001b[0m \u001b[0;36m1e-5\u001b[0m\u001b[0;34m:\u001b[0m\u001b[0;34m\u001b[0m\u001b[0;34m\u001b[0m\u001b[0m\n\u001b[1;32m     58\u001b[0m         warnings.warn(\n",
      "\u001b[0;31mAssertionError\u001b[0m: Cannot normalize by scale factor = 0"
     ]
    },
    {
     "data": {
      "image/png": "[encoded data removed]",
      "text/plain": [
       "<Figure size 1500x600 with 5 Axes>"
      ]
     },
     "metadata": {},
     "output_type": "display_data"
    }
   ],
   "source": [
    "for i in range(0, len(input_img)):\n",
    "  occlusion = Occlusion(net_copy)\n",
    "  input_tensor = input_img[i].clone().detach().to(device).requires_grad_(True)\n",
    "\n",
    "  attributions_occ = occlusion.attribute(\n",
    "      input_tensor,\n",
    "      target=pred_label_idx[0],\n",
    "      strides=(1, 8, 8),\n",
    "      sliding_window_shapes=(1, 15, 15),\n",
    "      baselines=0\n",
    "  )\n",
    "\n",
    "  # Convert to numpy and reshape\n",
    "  attributions_np = attributions_occ.squeeze().cpu().detach().numpy()\n",
    "  attributions_np = np.expand_dims(attributions_np, axis=2)  # Add channel dim\n",
    "  attributions_np = np.transpose(attributions_np, (1, 0, 2))  # [H, W, C]\n",
    "\n",
    "  # Verify shapes\n",
    "  print(\"Attributions shape:\", attributions_np.shape)  # Should be (400, 400, 1)\n",
    "  print(\"Original image shape:\", original_img[i].shape)  # Should be (400, 400, 3)\n",
    "\n",
    "  # Visualize\n",
    "  _,axis = viz.visualize_image_attr_multiple(\n",
    "      attributions_np,\n",
    "      # original_img[i],\n",
    "      new_img[i].permute(1,2,0).numpy(),\n",
    "      [\"original_image\", \"heat_map\", \"heat_map\",'blended_heat_map', \"masked_image\"],\n",
    "      [\"all\", \"positive\", \"negative\", \"positive\", \"positive\"],\n",
    "      show_colorbar=True,\n",
    "      titles=[\"Original\", \"Positive Attribution\", \"Negative Attribution\", 'Blended Masked Image', \"Masked\"],\n",
    "      cmap=plt.cm.plasma,\n",
    "      fig_size=(15, 6)\n",
    "  )\n",
    "\n",
    "  _.savefig(f\"/content/drive/MyDrive/thesis/Datasets/occulsion_sensitivity/occulsion_sensivitity_{i+1}.png\")"
   ]
  },
  {
   "cell_type": "code",
   "execution_count": null,
   "metadata": {
    "executionInfo": {
     "elapsed": 3033343,
     "status": "aborted",
     "timestamp": 1748186402898,
     "user": {
      "displayName": "Movies Tonight",
      "userId": "05638868713549501183"
     },
     "user_tz": -300
    },
    "id": "7WDMbmga5Xbz"
   },
   "outputs": [],
   "source": [
    "saving_path = \"/content/drive/MyDrive/thesis/Model/thesis_proposed_model.pth\"\n",
    "\n",
    "torch.save(net_copy.state_dict(), saving_path)"
   ]
  },
  {
   "cell_type": "code",
   "execution_count": null,
   "metadata": {
    "executionInfo": {
     "elapsed": 6,
     "status": "aborted",
     "timestamp": 1748186403113,
     "user": {
      "displayName": "Movies Tonight",
      "userId": "05638868713549501183"
     },
     "user_tz": -300
    },
    "id": "_hq9-JS1OJlK"
   },
   "outputs": [],
   "source": []
  }
 ],
 "metadata": {
  "accelerator": "GPU",
  "colab": {
   "authorship_tag": "ABX9TyOhvxIAbJrj/ZnKSjmQFL5Q",
   "gpuType": "T4",
   "provenance": []
  },
  "kernelspec": {
   "display_name": "Python 3",
   "name": "python3"
  },
  "language_info": {
   "name": "python"
  }
 },
 "nbformat": 4,
 "nbformat_minor": 0
}
